{
 "cells": [
  {
   "cell_type": "code",
   "execution_count": 40,
   "id": "e3b49406",
   "metadata": {},
   "outputs": [
    {
     "name": "stdout",
     "output_type": "stream",
     "text": [
      "The autoreload extension is already loaded. To reload it, use:\n",
      "  %reload_ext autoreload\n"
     ]
    }
   ],
   "source": [
    "%load_ext autoreload\n",
    "%autoreload 2\n",
    "%config Completer.use_jedi = False\n",
    "from incremental_learning.config import es_cloud_id, es_user, es_password\n",
    "import numpy as np\n",
    "import plotly.graph_objects as go\n",
    "import plotly.io as pio\n",
    "from plotly.subplots import make_subplots\n",
    "import plotly.express as px\n",
    "\n",
    "from elasticsearch import Elasticsearch\n",
    "\n",
    "\n",
    "import eland as ed"
   ]
  },
  {
   "cell_type": "code",
   "execution_count": 6,
   "id": "28d77788",
   "metadata": {},
   "outputs": [],
   "source": [
    "es = Elasticsearch(cloud_id=es_cloud_id,\n",
    "                       http_auth=(es_user, es_password))\n",
    "\n",
    "df = ed.DataFrame(es_client=es, es_index_pattern='experiment-multi-step-sampling', \n",
    "                  columns=['config.dataset_name','run.meta.comment', 'config.training_fraction', \n",
    "                           'config.seed', 'run.result.baseline.train_error.value', \n",
    "                           'run.result.baseline.test_error.value'], )\n",
    "\n",
    "# df1 = df.to_pandas().dropna()"
   ]
  },
  {
   "cell_type": "markdown",
   "id": "17dfcd57",
   "metadata": {},
   "source": [
    "# House dataset \n",
    "## Compare to the baseline"
   ]
  },
  {
   "cell_type": "code",
   "execution_count": 35,
   "id": "24d3a112",
   "metadata": {},
   "outputs": [
    {
     "data": {
      "text/html": [
       "<div>\n",
       "<style scoped>\n",
       "    .dataframe tbody tr th:only-of-type {\n",
       "        vertical-align: middle;\n",
       "    }\n",
       "\n",
       "    .dataframe tbody tr th {\n",
       "        vertical-align: top;\n",
       "    }\n",
       "\n",
       "    .dataframe thead th {\n",
       "        text-align: right;\n",
       "    }\n",
       "</style>\n",
       "<table border=\"1\" class=\"dataframe\">\n",
       "  <thead>\n",
       "    <tr style=\"text-align: right;\">\n",
       "      <th></th>\n",
       "      <th>config.dataset_name</th>\n",
       "      <th>run.meta.comment</th>\n",
       "      <th>config.training_fraction</th>\n",
       "      <th>config.seed</th>\n",
       "      <th>run.result.baseline.train_error.value</th>\n",
       "      <th>run.result.baseline.test_error.value</th>\n",
       "    </tr>\n",
       "  </thead>\n",
       "  <tbody>\n",
       "  </tbody>\n",
       "</table>\n",
       "</div>\n",
       "<p>0 rows × 6 columns</p>"
      ],
      "text/plain": [
       "Empty DataFrame\n",
       "Columns: [config.dataset_name, run.meta.comment, config.training_fraction, config.seed, run.result.baseline.train_error.value, run.result.baseline.test_error.value]\n",
       "Index: []\n",
       "\n",
       "[0 rows x 6 columns]"
      ]
     },
     "execution_count": 35,
     "metadata": {},
     "output_type": "execute_result"
    }
   ],
   "source": [
    "df[(df['run.meta.comment'] == \"baseline estimation\")]"
   ]
  },
  {
   "cell_type": "code",
   "execution_count": 26,
   "id": "564c9048",
   "metadata": {},
   "outputs": [],
   "source": [
    "pdf = df['run.meta.comment'].to_pandas()"
   ]
  },
  {
   "cell_type": "code",
   "execution_count": 32,
   "id": "c9a8509a",
   "metadata": {},
   "outputs": [
    {
     "data": {
      "text/plain": [
       "array([nan, 'baseline estimation', 'deduplication test', 'deduplication',\n",
       "       'enable retrained tree eta optimization',\n",
       "       'weighted sampling with deduplication', 'metric storage test',\n",
       "       'Test adding sources', 'Test using comments'], dtype=object)"
      ]
     },
     "execution_count": 32,
     "metadata": {},
     "output_type": "execute_result"
    }
   ],
   "source": [
    "pdf['run.meta.comment'].unique()"
   ]
  },
  {
   "cell_type": "code",
   "execution_count": 65,
   "id": "e0bfbba0",
   "metadata": {},
   "outputs": [],
   "source": [
    "columns = ['config.dataset_name', 'comment', 'config_sampling_mode', 'training_fraction', 'updated_model.fraction_of_train', 'updated_model.hyperparameters.retrained_tree_eta', 'updated_model.test_error', 'updated_model.train_error', 'seed', 'step']\n",
    "display_names = ['comment', 'config_sampling_mode', 'dataset_name', 'experiment_uid', 'run.comment', 'run.config.analysis.parameters.data_summarization_fraction', 'run.config.analysis.parameters.early_stopping_enabled', 'run.config.analysis.parameters.max_optimization_rounds_per_hyperparameter', 'run.config.analysis.parameters.prediction_change_cost', 'run.config.analysis.parameters.py/object', 'run.config.analysis.parameters.tree_topology_change_penalty', 'run.config.analysis.py/object', 'run.config.analysis_parameters.parameters.data_summarization_fraction', 'run.config.analysis_parameters.parameters.early_stopping_enabled', 'run.config.analysis_parameters.parameters.max_optimization_rounds_per_hyperparameter', 'run.config.analysis_parameters.parameters.prediction_change_cost', 'run.config.analysis_parameters.parameters.tree_topology_change_penalty', 'run.config.dataset_name', 'run.config.force_update', 'run.config.n_largest_multiplier', 'run.config.sampling_mode', 'run.config.seed', 'run.config.test_fraction', 'run.config.threads', 'run.config.training_fraction', 'run.config.update_fraction', 'run.config.update_steps', 'run.config.verbose', 'seed', 'step', 'training_fraction', 'updated_model.elapsed_time', 'updated_model.forest_statistics.num_trees', 'updated_model.forest_statistics.tree_depth_mean', 'updated_model.forest_statistics.tree_depth_std', 'updated_model.forest_statistics.tree_nodes_max', 'updated_model.forest_statistics.tree_nodes_mean', 'updated_model.forest_statistics.tree_nodes_std', 'updated_model.fraction_of_train', 'updated_model.hyperparameters.alpha', 'updated_model.hyperparameters.downsample_factor', 'updated_model.hyperparameters.eta', 'updated_model.hyperparameters.eta_growth_rate_per_tree', 'updated_model.hyperparameters.feature_bag_fraction', 'updated_model.hyperparameters.gamma', 'updated_model.hyperparameters.lambda', 'updated_model.hyperparameters.max_trees', 'updated_model.hyperparameters.prediction_change_cost', 'updated_model.hyperparameters.previous_train_loss_gap', 'updated_model.hyperparameters.previous_train_num_rows', 'updated_model.hyperparameters.retrained_tree_eta', 'updated_model.hyperparameters.soft_tree_depth_limit', 'updated_model.hyperparameters.soft_tree_depth_tolerance', 'updated_model.hyperparameters.tree_topology_change_penalty', 'updated_model.test_error', 'updated_model.train_error']"
   ]
  },
  {
   "cell_type": "code",
   "execution_count": 66,
   "id": "006aa2a6",
   "metadata": {},
   "outputs": [
    {
     "name": "stdout",
     "output_type": "stream",
     "text": [
      "config.dataset_name\n"
     ]
    }
   ],
   "source": [
    "for col in columns:\n",
    "    if col not in display_names:\n",
    "        print(col)"
   ]
  },
  {
   "cell_type": "code",
   "execution_count": 47,
   "id": "efb544dc",
   "metadata": {},
   "outputs": [],
   "source": [
    "baseline = df.es_query({\n",
    "            \"bool\": {\n",
    "              \"filter\": [\n",
    "                {\n",
    "                  \"bool\": {\n",
    "                    \"should\": [\n",
    "                      {\n",
    "                        \"match_phrase\": {\n",
    "                          \"config.dataset_name.keyword\": \"house\"\n",
    "                        }\n",
    "                      }\n",
    "                    ],\n",
    "                    \"minimum_should_match\": 1\n",
    "                  }\n",
    "                },\n",
    "                {\n",
    "                  \"bool\": {\n",
    "                    \"should\": [\n",
    "                      {\n",
    "                        \"match_phrase\": {\n",
    "                          \"run.meta.comment.keyword\": \"baseline estimation\"\n",
    "                        }\n",
    "                      }\n",
    "                    ],\n",
    "                    \"minimum_should_match\": 1\n",
    "                  }\n",
    "                },\n",
    "                {\n",
    "                  \"bool\": {\n",
    "                    \"should\": [\n",
    "                      {\n",
    "                        \"exists\": {\n",
    "                          \"field\": \"run.result.baseline.train_error.value\"\n",
    "                        }\n",
    "                      }\n",
    "                    ],\n",
    "                    \"minimum_should_match\": 1\n",
    "                  }\n",
    "                }\n",
    "              ]\n",
    "            }\n",
    "          })"
   ]
  },
  {
   "cell_type": "code",
   "execution_count": 60,
   "id": "a059d74b",
   "metadata": {},
   "outputs": [],
   "source": [
    "baseline_df = baseline.drop(columns=['config.dataset_name', 'run.meta.comment']).groupby(['config.training_fraction', 'config.seed']).agg('mean').reset_index()"
   ]
  },
  {
   "cell_type": "code",
   "execution_count": 116,
   "id": "aa58a987",
   "metadata": {},
   "outputs": [
    {
     "data": {
      "application/vnd.plotly.v1+json": {
       "config": {
        "plotlyServerURL": "https://plot.ly"
       },
       "data": [
        {
         "hovertemplate": "config.seed=0<br>config.training_fraction=%{x}<br>run.result.baseline.test_error.value=%{y}<extra></extra>",
         "legendgroup": "0",
         "line": {
          "color": "#636efa",
          "dash": "solid"
         },
         "marker": {
          "symbol": "circle"
         },
         "mode": "lines",
         "name": "0",
         "orientation": "v",
         "showlegend": true,
         "type": "scatter",
         "x": [
          0.10000000149011612,
          0.25,
          0.5,
          0.75,
          1
         ],
         "xaxis": "x",
         "y": [
          1035493632,
          981867904,
          869516160,
          783492032,
          777333568
         ],
         "yaxis": "y"
        },
        {
         "hovertemplate": "config.seed=1<br>config.training_fraction=%{x}<br>run.result.baseline.test_error.value=%{y}<extra></extra>",
         "legendgroup": "1",
         "line": {
          "color": "#EF553B",
          "dash": "solid"
         },
         "marker": {
          "symbol": "circle"
         },
         "mode": "lines",
         "name": "1",
         "orientation": "v",
         "showlegend": true,
         "type": "scatter",
         "x": [
          0.10000000149011612,
          0.25,
          0.5,
          0.75,
          1
         ],
         "xaxis": "x",
         "y": [
          1200247552,
          1136666496,
          1032693568,
          1025050432,
          969351296
         ],
         "yaxis": "y"
        },
        {
         "hovertemplate": "config.seed=2<br>config.training_fraction=%{x}<br>run.result.baseline.test_error.value=%{y}<extra></extra>",
         "legendgroup": "2",
         "line": {
          "color": "#00cc96",
          "dash": "solid"
         },
         "marker": {
          "symbol": "circle"
         },
         "mode": "lines",
         "name": "2",
         "orientation": "v",
         "showlegend": true,
         "type": "scatter",
         "x": [
          0.10000000149011612,
          0.25,
          0.5,
          0.75,
          1
         ],
         "xaxis": "x",
         "y": [
          1159328640,
          1059079680,
          993591808,
          1009308672,
          926071680
         ],
         "yaxis": "y"
        }
       ],
       "layout": {
        "legend": {
         "title": {
          "text": "config.seed"
         },
         "tracegroupgap": 0
        },
        "margin": {
         "t": 60
        },
        "template": {
         "data": {
          "bar": [
           {
            "error_x": {
             "color": "#2a3f5f"
            },
            "error_y": {
             "color": "#2a3f5f"
            },
            "marker": {
             "line": {
              "color": "#E5ECF6",
              "width": 0.5
             },
             "pattern": {
              "fillmode": "overlay",
              "size": 10,
              "solidity": 0.2
             }
            },
            "type": "bar"
           }
          ],
          "barpolar": [
           {
            "marker": {
             "line": {
              "color": "#E5ECF6",
              "width": 0.5
             },
             "pattern": {
              "fillmode": "overlay",
              "size": 10,
              "solidity": 0.2
             }
            },
            "type": "barpolar"
           }
          ],
          "carpet": [
           {
            "aaxis": {
             "endlinecolor": "#2a3f5f",
             "gridcolor": "white",
             "linecolor": "white",
             "minorgridcolor": "white",
             "startlinecolor": "#2a3f5f"
            },
            "baxis": {
             "endlinecolor": "#2a3f5f",
             "gridcolor": "white",
             "linecolor": "white",
             "minorgridcolor": "white",
             "startlinecolor": "#2a3f5f"
            },
            "type": "carpet"
           }
          ],
          "choropleth": [
           {
            "colorbar": {
             "outlinewidth": 0,
             "ticks": ""
            },
            "type": "choropleth"
           }
          ],
          "contour": [
           {
            "colorbar": {
             "outlinewidth": 0,
             "ticks": ""
            },
            "colorscale": [
             [
              0,
              "#0d0887"
             ],
             [
              0.1111111111111111,
              "#46039f"
             ],
             [
              0.2222222222222222,
              "#7201a8"
             ],
             [
              0.3333333333333333,
              "#9c179e"
             ],
             [
              0.4444444444444444,
              "#bd3786"
             ],
             [
              0.5555555555555556,
              "#d8576b"
             ],
             [
              0.6666666666666666,
              "#ed7953"
             ],
             [
              0.7777777777777778,
              "#fb9f3a"
             ],
             [
              0.8888888888888888,
              "#fdca26"
             ],
             [
              1,
              "#f0f921"
             ]
            ],
            "type": "contour"
           }
          ],
          "contourcarpet": [
           {
            "colorbar": {
             "outlinewidth": 0,
             "ticks": ""
            },
            "type": "contourcarpet"
           }
          ],
          "heatmap": [
           {
            "colorbar": {
             "outlinewidth": 0,
             "ticks": ""
            },
            "colorscale": [
             [
              0,
              "#0d0887"
             ],
             [
              0.1111111111111111,
              "#46039f"
             ],
             [
              0.2222222222222222,
              "#7201a8"
             ],
             [
              0.3333333333333333,
              "#9c179e"
             ],
             [
              0.4444444444444444,
              "#bd3786"
             ],
             [
              0.5555555555555556,
              "#d8576b"
             ],
             [
              0.6666666666666666,
              "#ed7953"
             ],
             [
              0.7777777777777778,
              "#fb9f3a"
             ],
             [
              0.8888888888888888,
              "#fdca26"
             ],
             [
              1,
              "#f0f921"
             ]
            ],
            "type": "heatmap"
           }
          ],
          "heatmapgl": [
           {
            "colorbar": {
             "outlinewidth": 0,
             "ticks": ""
            },
            "colorscale": [
             [
              0,
              "#0d0887"
             ],
             [
              0.1111111111111111,
              "#46039f"
             ],
             [
              0.2222222222222222,
              "#7201a8"
             ],
             [
              0.3333333333333333,
              "#9c179e"
             ],
             [
              0.4444444444444444,
              "#bd3786"
             ],
             [
              0.5555555555555556,
              "#d8576b"
             ],
             [
              0.6666666666666666,
              "#ed7953"
             ],
             [
              0.7777777777777778,
              "#fb9f3a"
             ],
             [
              0.8888888888888888,
              "#fdca26"
             ],
             [
              1,
              "#f0f921"
             ]
            ],
            "type": "heatmapgl"
           }
          ],
          "histogram": [
           {
            "marker": {
             "pattern": {
              "fillmode": "overlay",
              "size": 10,
              "solidity": 0.2
             }
            },
            "type": "histogram"
           }
          ],
          "histogram2d": [
           {
            "colorbar": {
             "outlinewidth": 0,
             "ticks": ""
            },
            "colorscale": [
             [
              0,
              "#0d0887"
             ],
             [
              0.1111111111111111,
              "#46039f"
             ],
             [
              0.2222222222222222,
              "#7201a8"
             ],
             [
              0.3333333333333333,
              "#9c179e"
             ],
             [
              0.4444444444444444,
              "#bd3786"
             ],
             [
              0.5555555555555556,
              "#d8576b"
             ],
             [
              0.6666666666666666,
              "#ed7953"
             ],
             [
              0.7777777777777778,
              "#fb9f3a"
             ],
             [
              0.8888888888888888,
              "#fdca26"
             ],
             [
              1,
              "#f0f921"
             ]
            ],
            "type": "histogram2d"
           }
          ],
          "histogram2dcontour": [
           {
            "colorbar": {
             "outlinewidth": 0,
             "ticks": ""
            },
            "colorscale": [
             [
              0,
              "#0d0887"
             ],
             [
              0.1111111111111111,
              "#46039f"
             ],
             [
              0.2222222222222222,
              "#7201a8"
             ],
             [
              0.3333333333333333,
              "#9c179e"
             ],
             [
              0.4444444444444444,
              "#bd3786"
             ],
             [
              0.5555555555555556,
              "#d8576b"
             ],
             [
              0.6666666666666666,
              "#ed7953"
             ],
             [
              0.7777777777777778,
              "#fb9f3a"
             ],
             [
              0.8888888888888888,
              "#fdca26"
             ],
             [
              1,
              "#f0f921"
             ]
            ],
            "type": "histogram2dcontour"
           }
          ],
          "mesh3d": [
           {
            "colorbar": {
             "outlinewidth": 0,
             "ticks": ""
            },
            "type": "mesh3d"
           }
          ],
          "parcoords": [
           {
            "line": {
             "colorbar": {
              "outlinewidth": 0,
              "ticks": ""
             }
            },
            "type": "parcoords"
           }
          ],
          "pie": [
           {
            "automargin": true,
            "type": "pie"
           }
          ],
          "scatter": [
           {
            "marker": {
             "colorbar": {
              "outlinewidth": 0,
              "ticks": ""
             }
            },
            "type": "scatter"
           }
          ],
          "scatter3d": [
           {
            "line": {
             "colorbar": {
              "outlinewidth": 0,
              "ticks": ""
             }
            },
            "marker": {
             "colorbar": {
              "outlinewidth": 0,
              "ticks": ""
             }
            },
            "type": "scatter3d"
           }
          ],
          "scattercarpet": [
           {
            "marker": {
             "colorbar": {
              "outlinewidth": 0,
              "ticks": ""
             }
            },
            "type": "scattercarpet"
           }
          ],
          "scattergeo": [
           {
            "marker": {
             "colorbar": {
              "outlinewidth": 0,
              "ticks": ""
             }
            },
            "type": "scattergeo"
           }
          ],
          "scattergl": [
           {
            "marker": {
             "colorbar": {
              "outlinewidth": 0,
              "ticks": ""
             }
            },
            "type": "scattergl"
           }
          ],
          "scattermapbox": [
           {
            "marker": {
             "colorbar": {
              "outlinewidth": 0,
              "ticks": ""
             }
            },
            "type": "scattermapbox"
           }
          ],
          "scatterpolar": [
           {
            "marker": {
             "colorbar": {
              "outlinewidth": 0,
              "ticks": ""
             }
            },
            "type": "scatterpolar"
           }
          ],
          "scatterpolargl": [
           {
            "marker": {
             "colorbar": {
              "outlinewidth": 0,
              "ticks": ""
             }
            },
            "type": "scatterpolargl"
           }
          ],
          "scatterternary": [
           {
            "marker": {
             "colorbar": {
              "outlinewidth": 0,
              "ticks": ""
             }
            },
            "type": "scatterternary"
           }
          ],
          "surface": [
           {
            "colorbar": {
             "outlinewidth": 0,
             "ticks": ""
            },
            "colorscale": [
             [
              0,
              "#0d0887"
             ],
             [
              0.1111111111111111,
              "#46039f"
             ],
             [
              0.2222222222222222,
              "#7201a8"
             ],
             [
              0.3333333333333333,
              "#9c179e"
             ],
             [
              0.4444444444444444,
              "#bd3786"
             ],
             [
              0.5555555555555556,
              "#d8576b"
             ],
             [
              0.6666666666666666,
              "#ed7953"
             ],
             [
              0.7777777777777778,
              "#fb9f3a"
             ],
             [
              0.8888888888888888,
              "#fdca26"
             ],
             [
              1,
              "#f0f921"
             ]
            ],
            "type": "surface"
           }
          ],
          "table": [
           {
            "cells": {
             "fill": {
              "color": "#EBF0F8"
             },
             "line": {
              "color": "white"
             }
            },
            "header": {
             "fill": {
              "color": "#C8D4E3"
             },
             "line": {
              "color": "white"
             }
            },
            "type": "table"
           }
          ]
         },
         "layout": {
          "annotationdefaults": {
           "arrowcolor": "#2a3f5f",
           "arrowhead": 0,
           "arrowwidth": 1
          },
          "autotypenumbers": "strict",
          "coloraxis": {
           "colorbar": {
            "outlinewidth": 0,
            "ticks": ""
           }
          },
          "colorscale": {
           "diverging": [
            [
             0,
             "#8e0152"
            ],
            [
             0.1,
             "#c51b7d"
            ],
            [
             0.2,
             "#de77ae"
            ],
            [
             0.3,
             "#f1b6da"
            ],
            [
             0.4,
             "#fde0ef"
            ],
            [
             0.5,
             "#f7f7f7"
            ],
            [
             0.6,
             "#e6f5d0"
            ],
            [
             0.7,
             "#b8e186"
            ],
            [
             0.8,
             "#7fbc41"
            ],
            [
             0.9,
             "#4d9221"
            ],
            [
             1,
             "#276419"
            ]
           ],
           "sequential": [
            [
             0,
             "#0d0887"
            ],
            [
             0.1111111111111111,
             "#46039f"
            ],
            [
             0.2222222222222222,
             "#7201a8"
            ],
            [
             0.3333333333333333,
             "#9c179e"
            ],
            [
             0.4444444444444444,
             "#bd3786"
            ],
            [
             0.5555555555555556,
             "#d8576b"
            ],
            [
             0.6666666666666666,
             "#ed7953"
            ],
            [
             0.7777777777777778,
             "#fb9f3a"
            ],
            [
             0.8888888888888888,
             "#fdca26"
            ],
            [
             1,
             "#f0f921"
            ]
           ],
           "sequentialminus": [
            [
             0,
             "#0d0887"
            ],
            [
             0.1111111111111111,
             "#46039f"
            ],
            [
             0.2222222222222222,
             "#7201a8"
            ],
            [
             0.3333333333333333,
             "#9c179e"
            ],
            [
             0.4444444444444444,
             "#bd3786"
            ],
            [
             0.5555555555555556,
             "#d8576b"
            ],
            [
             0.6666666666666666,
             "#ed7953"
            ],
            [
             0.7777777777777778,
             "#fb9f3a"
            ],
            [
             0.8888888888888888,
             "#fdca26"
            ],
            [
             1,
             "#f0f921"
            ]
           ]
          },
          "colorway": [
           "#636efa",
           "#EF553B",
           "#00cc96",
           "#ab63fa",
           "#FFA15A",
           "#19d3f3",
           "#FF6692",
           "#B6E880",
           "#FF97FF",
           "#FECB52"
          ],
          "font": {
           "color": "#2a3f5f"
          },
          "geo": {
           "bgcolor": "white",
           "lakecolor": "white",
           "landcolor": "#E5ECF6",
           "showlakes": true,
           "showland": true,
           "subunitcolor": "white"
          },
          "hoverlabel": {
           "align": "left"
          },
          "hovermode": "closest",
          "mapbox": {
           "style": "light"
          },
          "paper_bgcolor": "white",
          "plot_bgcolor": "#E5ECF6",
          "polar": {
           "angularaxis": {
            "gridcolor": "white",
            "linecolor": "white",
            "ticks": ""
           },
           "bgcolor": "#E5ECF6",
           "radialaxis": {
            "gridcolor": "white",
            "linecolor": "white",
            "ticks": ""
           }
          },
          "scene": {
           "xaxis": {
            "backgroundcolor": "#E5ECF6",
            "gridcolor": "white",
            "gridwidth": 2,
            "linecolor": "white",
            "showbackground": true,
            "ticks": "",
            "zerolinecolor": "white"
           },
           "yaxis": {
            "backgroundcolor": "#E5ECF6",
            "gridcolor": "white",
            "gridwidth": 2,
            "linecolor": "white",
            "showbackground": true,
            "ticks": "",
            "zerolinecolor": "white"
           },
           "zaxis": {
            "backgroundcolor": "#E5ECF6",
            "gridcolor": "white",
            "gridwidth": 2,
            "linecolor": "white",
            "showbackground": true,
            "ticks": "",
            "zerolinecolor": "white"
           }
          },
          "shapedefaults": {
           "line": {
            "color": "#2a3f5f"
           }
          },
          "ternary": {
           "aaxis": {
            "gridcolor": "white",
            "linecolor": "white",
            "ticks": ""
           },
           "baxis": {
            "gridcolor": "white",
            "linecolor": "white",
            "ticks": ""
           },
           "bgcolor": "#E5ECF6",
           "caxis": {
            "gridcolor": "white",
            "linecolor": "white",
            "ticks": ""
           }
          },
          "title": {
           "x": 0.05
          },
          "xaxis": {
           "automargin": true,
           "gridcolor": "white",
           "linecolor": "white",
           "ticks": "",
           "title": {
            "standoff": 15
           },
           "zerolinecolor": "white",
           "zerolinewidth": 2
          },
          "yaxis": {
           "automargin": true,
           "gridcolor": "white",
           "linecolor": "white",
           "ticks": "",
           "title": {
            "standoff": 15
           },
           "zerolinecolor": "white",
           "zerolinewidth": 2
          }
         }
        },
        "xaxis": {
         "anchor": "y",
         "domain": [
          0,
          1
         ],
         "title": {
          "text": "config.training_fraction"
         }
        },
        "yaxis": {
         "anchor": "x",
         "domain": [
          0,
          1
         ],
         "title": {
          "text": "run.result.baseline.test_error.value"
         }
        }
       }
      },
      "text/html": [
       "<div>                            <div id=\"f3611ad0-4da8-4602-aae4-47c04c737b15\" class=\"plotly-graph-div\" style=\"height:525px; width:100%;\"></div>            <script type=\"text/javascript\">                require([\"plotly\"], function(Plotly) {                    window.PLOTLYENV=window.PLOTLYENV || {};                                    if (document.getElementById(\"f3611ad0-4da8-4602-aae4-47c04c737b15\")) {                    Plotly.newPlot(                        \"f3611ad0-4da8-4602-aae4-47c04c737b15\",                        [{\"hovertemplate\":\"config.seed=0<br>config.training_fraction=%{x}<br>run.result.baseline.test_error.value=%{y}<extra></extra>\",\"legendgroup\":\"0\",\"line\":{\"color\":\"#636efa\",\"dash\":\"solid\"},\"marker\":{\"symbol\":\"circle\"},\"mode\":\"lines\",\"name\":\"0\",\"orientation\":\"v\",\"showlegend\":true,\"type\":\"scatter\",\"x\":[0.10000000149011612,0.25,0.5,0.75,1.0],\"xaxis\":\"x\",\"y\":[1035493632.0,981867904.0,869516160.0,783492032.0,777333568.0],\"yaxis\":\"y\"},{\"hovertemplate\":\"config.seed=1<br>config.training_fraction=%{x}<br>run.result.baseline.test_error.value=%{y}<extra></extra>\",\"legendgroup\":\"1\",\"line\":{\"color\":\"#EF553B\",\"dash\":\"solid\"},\"marker\":{\"symbol\":\"circle\"},\"mode\":\"lines\",\"name\":\"1\",\"orientation\":\"v\",\"showlegend\":true,\"type\":\"scatter\",\"x\":[0.10000000149011612,0.25,0.5,0.75,1.0],\"xaxis\":\"x\",\"y\":[1200247552.0,1136666496.0,1032693568.0,1025050432.0,969351296.0],\"yaxis\":\"y\"},{\"hovertemplate\":\"config.seed=2<br>config.training_fraction=%{x}<br>run.result.baseline.test_error.value=%{y}<extra></extra>\",\"legendgroup\":\"2\",\"line\":{\"color\":\"#00cc96\",\"dash\":\"solid\"},\"marker\":{\"symbol\":\"circle\"},\"mode\":\"lines\",\"name\":\"2\",\"orientation\":\"v\",\"showlegend\":true,\"type\":\"scatter\",\"x\":[0.10000000149011612,0.25,0.5,0.75,1.0],\"xaxis\":\"x\",\"y\":[1159328640.0,1059079680.0,993591808.0,1009308672.0,926071680.0],\"yaxis\":\"y\"}],                        {\"legend\":{\"title\":{\"text\":\"config.seed\"},\"tracegroupgap\":0},\"margin\":{\"t\":60},\"template\":{\"data\":{\"bar\":[{\"error_x\":{\"color\":\"#2a3f5f\"},\"error_y\":{\"color\":\"#2a3f5f\"},\"marker\":{\"line\":{\"color\":\"#E5ECF6\",\"width\":0.5},\"pattern\":{\"fillmode\":\"overlay\",\"size\":10,\"solidity\":0.2}},\"type\":\"bar\"}],\"barpolar\":[{\"marker\":{\"line\":{\"color\":\"#E5ECF6\",\"width\":0.5},\"pattern\":{\"fillmode\":\"overlay\",\"size\":10,\"solidity\":0.2}},\"type\":\"barpolar\"}],\"carpet\":[{\"aaxis\":{\"endlinecolor\":\"#2a3f5f\",\"gridcolor\":\"white\",\"linecolor\":\"white\",\"minorgridcolor\":\"white\",\"startlinecolor\":\"#2a3f5f\"},\"baxis\":{\"endlinecolor\":\"#2a3f5f\",\"gridcolor\":\"white\",\"linecolor\":\"white\",\"minorgridcolor\":\"white\",\"startlinecolor\":\"#2a3f5f\"},\"type\":\"carpet\"}],\"choropleth\":[{\"colorbar\":{\"outlinewidth\":0,\"ticks\":\"\"},\"type\":\"choropleth\"}],\"contour\":[{\"colorbar\":{\"outlinewidth\":0,\"ticks\":\"\"},\"colorscale\":[[0.0,\"#0d0887\"],[0.1111111111111111,\"#46039f\"],[0.2222222222222222,\"#7201a8\"],[0.3333333333333333,\"#9c179e\"],[0.4444444444444444,\"#bd3786\"],[0.5555555555555556,\"#d8576b\"],[0.6666666666666666,\"#ed7953\"],[0.7777777777777778,\"#fb9f3a\"],[0.8888888888888888,\"#fdca26\"],[1.0,\"#f0f921\"]],\"type\":\"contour\"}],\"contourcarpet\":[{\"colorbar\":{\"outlinewidth\":0,\"ticks\":\"\"},\"type\":\"contourcarpet\"}],\"heatmap\":[{\"colorbar\":{\"outlinewidth\":0,\"ticks\":\"\"},\"colorscale\":[[0.0,\"#0d0887\"],[0.1111111111111111,\"#46039f\"],[0.2222222222222222,\"#7201a8\"],[0.3333333333333333,\"#9c179e\"],[0.4444444444444444,\"#bd3786\"],[0.5555555555555556,\"#d8576b\"],[0.6666666666666666,\"#ed7953\"],[0.7777777777777778,\"#fb9f3a\"],[0.8888888888888888,\"#fdca26\"],[1.0,\"#f0f921\"]],\"type\":\"heatmap\"}],\"heatmapgl\":[{\"colorbar\":{\"outlinewidth\":0,\"ticks\":\"\"},\"colorscale\":[[0.0,\"#0d0887\"],[0.1111111111111111,\"#46039f\"],[0.2222222222222222,\"#7201a8\"],[0.3333333333333333,\"#9c179e\"],[0.4444444444444444,\"#bd3786\"],[0.5555555555555556,\"#d8576b\"],[0.6666666666666666,\"#ed7953\"],[0.7777777777777778,\"#fb9f3a\"],[0.8888888888888888,\"#fdca26\"],[1.0,\"#f0f921\"]],\"type\":\"heatmapgl\"}],\"histogram\":[{\"marker\":{\"pattern\":{\"fillmode\":\"overlay\",\"size\":10,\"solidity\":0.2}},\"type\":\"histogram\"}],\"histogram2d\":[{\"colorbar\":{\"outlinewidth\":0,\"ticks\":\"\"},\"colorscale\":[[0.0,\"#0d0887\"],[0.1111111111111111,\"#46039f\"],[0.2222222222222222,\"#7201a8\"],[0.3333333333333333,\"#9c179e\"],[0.4444444444444444,\"#bd3786\"],[0.5555555555555556,\"#d8576b\"],[0.6666666666666666,\"#ed7953\"],[0.7777777777777778,\"#fb9f3a\"],[0.8888888888888888,\"#fdca26\"],[1.0,\"#f0f921\"]],\"type\":\"histogram2d\"}],\"histogram2dcontour\":[{\"colorbar\":{\"outlinewidth\":0,\"ticks\":\"\"},\"colorscale\":[[0.0,\"#0d0887\"],[0.1111111111111111,\"#46039f\"],[0.2222222222222222,\"#7201a8\"],[0.3333333333333333,\"#9c179e\"],[0.4444444444444444,\"#bd3786\"],[0.5555555555555556,\"#d8576b\"],[0.6666666666666666,\"#ed7953\"],[0.7777777777777778,\"#fb9f3a\"],[0.8888888888888888,\"#fdca26\"],[1.0,\"#f0f921\"]],\"type\":\"histogram2dcontour\"}],\"mesh3d\":[{\"colorbar\":{\"outlinewidth\":0,\"ticks\":\"\"},\"type\":\"mesh3d\"}],\"parcoords\":[{\"line\":{\"colorbar\":{\"outlinewidth\":0,\"ticks\":\"\"}},\"type\":\"parcoords\"}],\"pie\":[{\"automargin\":true,\"type\":\"pie\"}],\"scatter\":[{\"marker\":{\"colorbar\":{\"outlinewidth\":0,\"ticks\":\"\"}},\"type\":\"scatter\"}],\"scatter3d\":[{\"line\":{\"colorbar\":{\"outlinewidth\":0,\"ticks\":\"\"}},\"marker\":{\"colorbar\":{\"outlinewidth\":0,\"ticks\":\"\"}},\"type\":\"scatter3d\"}],\"scattercarpet\":[{\"marker\":{\"colorbar\":{\"outlinewidth\":0,\"ticks\":\"\"}},\"type\":\"scattercarpet\"}],\"scattergeo\":[{\"marker\":{\"colorbar\":{\"outlinewidth\":0,\"ticks\":\"\"}},\"type\":\"scattergeo\"}],\"scattergl\":[{\"marker\":{\"colorbar\":{\"outlinewidth\":0,\"ticks\":\"\"}},\"type\":\"scattergl\"}],\"scattermapbox\":[{\"marker\":{\"colorbar\":{\"outlinewidth\":0,\"ticks\":\"\"}},\"type\":\"scattermapbox\"}],\"scatterpolar\":[{\"marker\":{\"colorbar\":{\"outlinewidth\":0,\"ticks\":\"\"}},\"type\":\"scatterpolar\"}],\"scatterpolargl\":[{\"marker\":{\"colorbar\":{\"outlinewidth\":0,\"ticks\":\"\"}},\"type\":\"scatterpolargl\"}],\"scatterternary\":[{\"marker\":{\"colorbar\":{\"outlinewidth\":0,\"ticks\":\"\"}},\"type\":\"scatterternary\"}],\"surface\":[{\"colorbar\":{\"outlinewidth\":0,\"ticks\":\"\"},\"colorscale\":[[0.0,\"#0d0887\"],[0.1111111111111111,\"#46039f\"],[0.2222222222222222,\"#7201a8\"],[0.3333333333333333,\"#9c179e\"],[0.4444444444444444,\"#bd3786\"],[0.5555555555555556,\"#d8576b\"],[0.6666666666666666,\"#ed7953\"],[0.7777777777777778,\"#fb9f3a\"],[0.8888888888888888,\"#fdca26\"],[1.0,\"#f0f921\"]],\"type\":\"surface\"}],\"table\":[{\"cells\":{\"fill\":{\"color\":\"#EBF0F8\"},\"line\":{\"color\":\"white\"}},\"header\":{\"fill\":{\"color\":\"#C8D4E3\"},\"line\":{\"color\":\"white\"}},\"type\":\"table\"}]},\"layout\":{\"annotationdefaults\":{\"arrowcolor\":\"#2a3f5f\",\"arrowhead\":0,\"arrowwidth\":1},\"autotypenumbers\":\"strict\",\"coloraxis\":{\"colorbar\":{\"outlinewidth\":0,\"ticks\":\"\"}},\"colorscale\":{\"diverging\":[[0,\"#8e0152\"],[0.1,\"#c51b7d\"],[0.2,\"#de77ae\"],[0.3,\"#f1b6da\"],[0.4,\"#fde0ef\"],[0.5,\"#f7f7f7\"],[0.6,\"#e6f5d0\"],[0.7,\"#b8e186\"],[0.8,\"#7fbc41\"],[0.9,\"#4d9221\"],[1,\"#276419\"]],\"sequential\":[[0.0,\"#0d0887\"],[0.1111111111111111,\"#46039f\"],[0.2222222222222222,\"#7201a8\"],[0.3333333333333333,\"#9c179e\"],[0.4444444444444444,\"#bd3786\"],[0.5555555555555556,\"#d8576b\"],[0.6666666666666666,\"#ed7953\"],[0.7777777777777778,\"#fb9f3a\"],[0.8888888888888888,\"#fdca26\"],[1.0,\"#f0f921\"]],\"sequentialminus\":[[0.0,\"#0d0887\"],[0.1111111111111111,\"#46039f\"],[0.2222222222222222,\"#7201a8\"],[0.3333333333333333,\"#9c179e\"],[0.4444444444444444,\"#bd3786\"],[0.5555555555555556,\"#d8576b\"],[0.6666666666666666,\"#ed7953\"],[0.7777777777777778,\"#fb9f3a\"],[0.8888888888888888,\"#fdca26\"],[1.0,\"#f0f921\"]]},\"colorway\":[\"#636efa\",\"#EF553B\",\"#00cc96\",\"#ab63fa\",\"#FFA15A\",\"#19d3f3\",\"#FF6692\",\"#B6E880\",\"#FF97FF\",\"#FECB52\"],\"font\":{\"color\":\"#2a3f5f\"},\"geo\":{\"bgcolor\":\"white\",\"lakecolor\":\"white\",\"landcolor\":\"#E5ECF6\",\"showlakes\":true,\"showland\":true,\"subunitcolor\":\"white\"},\"hoverlabel\":{\"align\":\"left\"},\"hovermode\":\"closest\",\"mapbox\":{\"style\":\"light\"},\"paper_bgcolor\":\"white\",\"plot_bgcolor\":\"#E5ECF6\",\"polar\":{\"angularaxis\":{\"gridcolor\":\"white\",\"linecolor\":\"white\",\"ticks\":\"\"},\"bgcolor\":\"#E5ECF6\",\"radialaxis\":{\"gridcolor\":\"white\",\"linecolor\":\"white\",\"ticks\":\"\"}},\"scene\":{\"xaxis\":{\"backgroundcolor\":\"#E5ECF6\",\"gridcolor\":\"white\",\"gridwidth\":2,\"linecolor\":\"white\",\"showbackground\":true,\"ticks\":\"\",\"zerolinecolor\":\"white\"},\"yaxis\":{\"backgroundcolor\":\"#E5ECF6\",\"gridcolor\":\"white\",\"gridwidth\":2,\"linecolor\":\"white\",\"showbackground\":true,\"ticks\":\"\",\"zerolinecolor\":\"white\"},\"zaxis\":{\"backgroundcolor\":\"#E5ECF6\",\"gridcolor\":\"white\",\"gridwidth\":2,\"linecolor\":\"white\",\"showbackground\":true,\"ticks\":\"\",\"zerolinecolor\":\"white\"}},\"shapedefaults\":{\"line\":{\"color\":\"#2a3f5f\"}},\"ternary\":{\"aaxis\":{\"gridcolor\":\"white\",\"linecolor\":\"white\",\"ticks\":\"\"},\"baxis\":{\"gridcolor\":\"white\",\"linecolor\":\"white\",\"ticks\":\"\"},\"bgcolor\":\"#E5ECF6\",\"caxis\":{\"gridcolor\":\"white\",\"linecolor\":\"white\",\"ticks\":\"\"}},\"title\":{\"x\":0.05},\"xaxis\":{\"automargin\":true,\"gridcolor\":\"white\",\"linecolor\":\"white\",\"ticks\":\"\",\"title\":{\"standoff\":15},\"zerolinecolor\":\"white\",\"zerolinewidth\":2},\"yaxis\":{\"automargin\":true,\"gridcolor\":\"white\",\"linecolor\":\"white\",\"ticks\":\"\",\"title\":{\"standoff\":15},\"zerolinecolor\":\"white\",\"zerolinewidth\":2}}},\"xaxis\":{\"anchor\":\"y\",\"domain\":[0.0,1.0],\"title\":{\"text\":\"config.training_fraction\"}},\"yaxis\":{\"anchor\":\"x\",\"domain\":[0.0,1.0],\"title\":{\"text\":\"run.result.baseline.test_error.value\"}}},                        {\"responsive\": true}                    ).then(function(){\n",
       "                            \n",
       "var gd = document.getElementById('f3611ad0-4da8-4602-aae4-47c04c737b15');\n",
       "var x = new MutationObserver(function (mutations, observer) {{\n",
       "        var display = window.getComputedStyle(gd).display;\n",
       "        if (!display || display === 'none') {{\n",
       "            console.log([gd, 'removed!']);\n",
       "            Plotly.purge(gd);\n",
       "            observer.disconnect();\n",
       "        }}\n",
       "}});\n",
       "\n",
       "// Listen for the removal of the full notebook cells\n",
       "var notebookContainer = gd.closest('#notebook-container');\n",
       "if (notebookContainer) {{\n",
       "    x.observe(notebookContainer, {childList: true});\n",
       "}}\n",
       "\n",
       "// Listen for the clearing of the current output cell\n",
       "var outputEl = gd.closest('.output');\n",
       "if (outputEl) {{\n",
       "    x.observe(outputEl, {childList: true});\n",
       "}}\n",
       "\n",
       "                        })                };                });            </script>        </div>"
      ]
     },
     "metadata": {},
     "output_type": "display_data"
    }
   ],
   "source": [
    "fig = px.line(baseline_df, x='config.training_fraction', y='run.result.baseline.test_error.value', color='config.seed')\n",
    "fig.show()"
   ]
  },
  {
   "cell_type": "code",
   "execution_count": 77,
   "id": "8bceba0a",
   "metadata": {},
   "outputs": [],
   "source": [
    "data = ed.DataFrame(es_client=es, es_index_pattern='experiment-multi-step-sampling-metrics', \n",
    "                  columns=['dataset_name', 'comment', 'config_sampling_mode', 'training_fraction',\n",
    "                          'updated_model.fraction_of_train', 'updated_model.hyperparameters.retrained_tree_eta',\n",
    "                          'updated_model.test_error', 'updated_model.train_error', \n",
    "                          'seed', 'step'])"
   ]
  },
  {
   "cell_type": "code",
   "execution_count": 78,
   "id": "2203287c",
   "metadata": {},
   "outputs": [],
   "source": [
    "data = data.es_query({\n",
    "            \"bool\": {\n",
    "              \"filter\": [\n",
    "                {\n",
    "                  \"bool\": {\n",
    "                    \"should\": [\n",
    "                      {\n",
    "                        \"match_phrase\": {\n",
    "                          \"comment.keyword\": \"enable retrained tree eta optimization\"\n",
    "                        }\n",
    "                      }\n",
    "                    ],\n",
    "                    \"minimum_should_match\": 1\n",
    "                  }\n",
    "                },\n",
    "                {\n",
    "                  \"bool\": {\n",
    "                    \"should\": [\n",
    "                      {\n",
    "                        \"match_phrase\": {\n",
    "                          \"dataset_name.keyword\": \"house\"\n",
    "                        }\n",
    "                      }\n",
    "                    ],\n",
    "                    \"minimum_should_match\": 1\n",
    "                  }\n",
    "                }\n",
    "              ]\n",
    "            }\n",
    "          })"
   ]
  },
  {
   "cell_type": "code",
   "execution_count": 79,
   "id": "8ef99b58",
   "metadata": {},
   "outputs": [],
   "source": [
    "data.drop(columns=['comment', 'dataset_name'], inplace=True)"
   ]
  },
  {
   "cell_type": "code",
   "execution_count": 89,
   "id": "e0175912",
   "metadata": {},
   "outputs": [],
   "source": [
    "data_df = data.to_pandas().dropna()"
   ]
  },
  {
   "cell_type": "code",
   "execution_count": 90,
   "id": "62c831b3",
   "metadata": {},
   "outputs": [
    {
     "data": {
      "text/html": [
       "<div>\n",
       "<style scoped>\n",
       "    .dataframe tbody tr th:only-of-type {\n",
       "        vertical-align: middle;\n",
       "    }\n",
       "\n",
       "    .dataframe tbody tr th {\n",
       "        vertical-align: top;\n",
       "    }\n",
       "\n",
       "    .dataframe thead th {\n",
       "        text-align: right;\n",
       "    }\n",
       "</style>\n",
       "<table border=\"1\" class=\"dataframe\">\n",
       "  <thead>\n",
       "    <tr style=\"text-align: right;\">\n",
       "      <th></th>\n",
       "      <th>config_sampling_mode</th>\n",
       "      <th>training_fraction</th>\n",
       "      <th>updated_model.fraction_of_train</th>\n",
       "      <th>updated_model.hyperparameters.retrained_tree_eta</th>\n",
       "      <th>updated_model.test_error</th>\n",
       "      <th>updated_model.train_error</th>\n",
       "      <th>seed</th>\n",
       "      <th>step</th>\n",
       "    </tr>\n",
       "  </thead>\n",
       "  <tbody>\n",
       "    <tr>\n",
       "      <th>k3e2y3wBUYUoev8F0hb5</th>\n",
       "      <td>nlargest</td>\n",
       "      <td>0.25</td>\n",
       "      <td>0.349980</td>\n",
       "      <td>0.452951</td>\n",
       "      <td>1.087295e+09</td>\n",
       "      <td>8.366517e+08</td>\n",
       "      <td>991068298</td>\n",
       "      <td>0</td>\n",
       "    </tr>\n",
       "    <tr>\n",
       "      <th>lHe2y3wBUYUoev8F0xZZ</th>\n",
       "      <td>nlargest</td>\n",
       "      <td>0.25</td>\n",
       "      <td>0.449961</td>\n",
       "      <td>1.000000</td>\n",
       "      <td>1.109733e+09</td>\n",
       "      <td>7.904086e+08</td>\n",
       "      <td>991068298</td>\n",
       "      <td>1</td>\n",
       "    </tr>\n",
       "    <tr>\n",
       "      <th>lXe2y3wBUYUoev8F0xa6</th>\n",
       "      <td>nlargest</td>\n",
       "      <td>0.25</td>\n",
       "      <td>0.549941</td>\n",
       "      <td>0.398967</td>\n",
       "      <td>1.109733e+09</td>\n",
       "      <td>7.904086e+08</td>\n",
       "      <td>991068298</td>\n",
       "      <td>2</td>\n",
       "    </tr>\n",
       "    <tr>\n",
       "      <th>lne2y3wBUYUoev8F1BYZ</th>\n",
       "      <td>nlargest</td>\n",
       "      <td>0.25</td>\n",
       "      <td>0.649922</td>\n",
       "      <td>0.398967</td>\n",
       "      <td>1.109733e+09</td>\n",
       "      <td>7.904086e+08</td>\n",
       "      <td>991068298</td>\n",
       "      <td>3</td>\n",
       "    </tr>\n",
       "    <tr>\n",
       "      <th>mHe2y3wBUYUoev8F9xbb</th>\n",
       "      <td>nlargest</td>\n",
       "      <td>0.50</td>\n",
       "      <td>0.599980</td>\n",
       "      <td>0.355451</td>\n",
       "      <td>9.755880e+08</td>\n",
       "      <td>3.302613e+08</td>\n",
       "      <td>991068298</td>\n",
       "      <td>0</td>\n",
       "    </tr>\n",
       "    <tr>\n",
       "      <th>mXe2y3wBUYUoev8F-BZD</th>\n",
       "      <td>nlargest</td>\n",
       "      <td>0.50</td>\n",
       "      <td>0.699961</td>\n",
       "      <td>0.301159</td>\n",
       "      <td>9.755880e+08</td>\n",
       "      <td>3.302613e+08</td>\n",
       "      <td>991068298</td>\n",
       "      <td>1</td>\n",
       "    </tr>\n",
       "    <tr>\n",
       "      <th>mne2y3wBUYUoev8F-Ban</th>\n",
       "      <td>nlargest</td>\n",
       "      <td>0.50</td>\n",
       "      <td>0.799941</td>\n",
       "      <td>0.301159</td>\n",
       "      <td>9.755880e+08</td>\n",
       "      <td>3.302613e+08</td>\n",
       "      <td>991068298</td>\n",
       "      <td>2</td>\n",
       "    </tr>\n",
       "    <tr>\n",
       "      <th>m3e2y3wBUYUoev8F-RYM</th>\n",
       "      <td>nlargest</td>\n",
       "      <td>0.50</td>\n",
       "      <td>0.899922</td>\n",
       "      <td>0.301159</td>\n",
       "      <td>9.755880e+08</td>\n",
       "      <td>3.302613e+08</td>\n",
       "      <td>991068298</td>\n",
       "      <td>3</td>\n",
       "    </tr>\n",
       "    <tr>\n",
       "      <th>nXe4y3wBUYUoev8FIBbX</th>\n",
       "      <td>nlargest</td>\n",
       "      <td>0.10</td>\n",
       "      <td>0.199961</td>\n",
       "      <td>0.134388</td>\n",
       "      <td>1.096357e+09</td>\n",
       "      <td>6.579423e+08</td>\n",
       "      <td>195341097</td>\n",
       "      <td>0</td>\n",
       "    </tr>\n",
       "    <tr>\n",
       "      <th>nne4y3wBUYUoev8FIRY4</th>\n",
       "      <td>nlargest</td>\n",
       "      <td>0.10</td>\n",
       "      <td>0.299941</td>\n",
       "      <td>0.372485</td>\n",
       "      <td>1.001643e+09</td>\n",
       "      <td>4.398897e+08</td>\n",
       "      <td>195341097</td>\n",
       "      <td>1</td>\n",
       "    </tr>\n",
       "    <tr>\n",
       "      <th>n3e4y3wBUYUoev8FIRaY</th>\n",
       "      <td>nlargest</td>\n",
       "      <td>0.10</td>\n",
       "      <td>0.399922</td>\n",
       "      <td>0.317967</td>\n",
       "      <td>1.001643e+09</td>\n",
       "      <td>4.398897e+08</td>\n",
       "      <td>195341097</td>\n",
       "      <td>2</td>\n",
       "    </tr>\n",
       "    <tr>\n",
       "      <th>oHe4y3wBUYUoev8FIRb4</th>\n",
       "      <td>nlargest</td>\n",
       "      <td>0.10</td>\n",
       "      <td>0.499902</td>\n",
       "      <td>0.317967</td>\n",
       "      <td>1.001643e+09</td>\n",
       "      <td>4.398897e+08</td>\n",
       "      <td>195341097</td>\n",
       "      <td>3</td>\n",
       "    </tr>\n",
       "    <tr>\n",
       "      <th>one4y3wBUYUoev8FMxbm</th>\n",
       "      <td>nlargest</td>\n",
       "      <td>0.25</td>\n",
       "      <td>0.349980</td>\n",
       "      <td>0.368071</td>\n",
       "      <td>1.021350e+09</td>\n",
       "      <td>6.241195e+08</td>\n",
       "      <td>195341097</td>\n",
       "      <td>0</td>\n",
       "    </tr>\n",
       "    <tr>\n",
       "      <th>o3e4y3wBUYUoev8FNBZJ</th>\n",
       "      <td>nlargest</td>\n",
       "      <td>0.25</td>\n",
       "      <td>0.449961</td>\n",
       "      <td>0.368071</td>\n",
       "      <td>9.814534e+08</td>\n",
       "      <td>5.924988e+08</td>\n",
       "      <td>195341097</td>\n",
       "      <td>1</td>\n",
       "    </tr>\n",
       "    <tr>\n",
       "      <th>pHe4y3wBUYUoev8FNBar</th>\n",
       "      <td>nlargest</td>\n",
       "      <td>0.25</td>\n",
       "      <td>0.549941</td>\n",
       "      <td>0.313600</td>\n",
       "      <td>9.814534e+08</td>\n",
       "      <td>5.924988e+08</td>\n",
       "      <td>195341097</td>\n",
       "      <td>2</td>\n",
       "    </tr>\n",
       "    <tr>\n",
       "      <th>pXe4y3wBUYUoev8FNRYM</th>\n",
       "      <td>nlargest</td>\n",
       "      <td>0.25</td>\n",
       "      <td>0.649922</td>\n",
       "      <td>0.313600</td>\n",
       "      <td>9.814534e+08</td>\n",
       "      <td>5.924988e+08</td>\n",
       "      <td>195341097</td>\n",
       "      <td>3</td>\n",
       "    </tr>\n",
       "    <tr>\n",
       "      <th>cnexy3wBUYUoev8FnRb6</th>\n",
       "      <td>nlargest</td>\n",
       "      <td>0.10</td>\n",
       "      <td>0.199961</td>\n",
       "      <td>0.398613</td>\n",
       "      <td>1.207632e+09</td>\n",
       "      <td>6.884747e+08</td>\n",
       "      <td>991068298</td>\n",
       "      <td>0</td>\n",
       "    </tr>\n",
       "    <tr>\n",
       "      <th>c3exy3wBUYUoev8FnhbH</th>\n",
       "      <td>nlargest</td>\n",
       "      <td>0.10</td>\n",
       "      <td>0.299941</td>\n",
       "      <td>0.398613</td>\n",
       "      <td>1.111137e+09</td>\n",
       "      <td>4.739845e+08</td>\n",
       "      <td>991068298</td>\n",
       "      <td>1</td>\n",
       "    </tr>\n",
       "    <tr>\n",
       "      <th>dHexy3wBUYUoev8FnxaX</th>\n",
       "      <td>nlargest</td>\n",
       "      <td>0.10</td>\n",
       "      <td>0.399922</td>\n",
       "      <td>0.049522</td>\n",
       "      <td>1.109567e+09</td>\n",
       "      <td>4.728986e+08</td>\n",
       "      <td>991068298</td>\n",
       "      <td>2</td>\n",
       "    </tr>\n",
       "    <tr>\n",
       "      <th>dXexy3wBUYUoev8FoBZf</th>\n",
       "      <td>nlargest</td>\n",
       "      <td>0.10</td>\n",
       "      <td>0.499902</td>\n",
       "      <td>0.072252</td>\n",
       "      <td>1.108977e+09</td>\n",
       "      <td>4.726236e+08</td>\n",
       "      <td>991068298</td>\n",
       "      <td>3</td>\n",
       "    </tr>\n",
       "    <tr>\n",
       "      <th>dnexy3wBUYUoev8FoRYz</th>\n",
       "      <td>nlargest</td>\n",
       "      <td>0.10</td>\n",
       "      <td>0.599883</td>\n",
       "      <td>0.158893</td>\n",
       "      <td>1.107394e+09</td>\n",
       "      <td>4.700727e+08</td>\n",
       "      <td>991068298</td>\n",
       "      <td>4</td>\n",
       "    </tr>\n",
       "    <tr>\n",
       "      <th>d3exy3wBUYUoev8FoRaw</th>\n",
       "      <td>nlargest</td>\n",
       "      <td>0.10</td>\n",
       "      <td>0.699863</td>\n",
       "      <td>0.072252</td>\n",
       "      <td>1.097101e+09</td>\n",
       "      <td>4.768104e+08</td>\n",
       "      <td>991068298</td>\n",
       "      <td>5</td>\n",
       "    </tr>\n",
       "    <tr>\n",
       "      <th>eHexy3wBUYUoev8FohZe</th>\n",
       "      <td>nlargest</td>\n",
       "      <td>0.10</td>\n",
       "      <td>0.799844</td>\n",
       "      <td>0.049522</td>\n",
       "      <td>1.095774e+09</td>\n",
       "      <td>4.766545e+08</td>\n",
       "      <td>991068298</td>\n",
       "      <td>6</td>\n",
       "    </tr>\n",
       "    <tr>\n",
       "      <th>eXexy3wBUYUoev8FoxYt</th>\n",
       "      <td>nlargest</td>\n",
       "      <td>0.10</td>\n",
       "      <td>0.899824</td>\n",
       "      <td>0.398613</td>\n",
       "      <td>1.094657e+09</td>\n",
       "      <td>4.740025e+08</td>\n",
       "      <td>991068298</td>\n",
       "      <td>7</td>\n",
       "    </tr>\n",
       "    <tr>\n",
       "      <th>enexy3wBUYUoev8Foxb7</th>\n",
       "      <td>nlargest</td>\n",
       "      <td>0.10</td>\n",
       "      <td>0.999805</td>\n",
       "      <td>0.398613</td>\n",
       "      <td>1.096877e+09</td>\n",
       "      <td>4.797909e+08</td>\n",
       "      <td>991068298</td>\n",
       "      <td>8</td>\n",
       "    </tr>\n",
       "    <tr>\n",
       "      <th>e3exy3wBUYUoev8FpBbD</th>\n",
       "      <td>nlargest</td>\n",
       "      <td>0.10</td>\n",
       "      <td>1.000000</td>\n",
       "      <td>0.049522</td>\n",
       "      <td>1.096936e+09</td>\n",
       "      <td>4.798571e+08</td>\n",
       "      <td>991068298</td>\n",
       "      <td>9</td>\n",
       "    </tr>\n",
       "    <tr>\n",
       "      <th>fXe0y3wBUYUoev8F5Bby</th>\n",
       "      <td>nlargest</td>\n",
       "      <td>0.50</td>\n",
       "      <td>0.599980</td>\n",
       "      <td>0.435124</td>\n",
       "      <td>8.453687e+08</td>\n",
       "      <td>6.548070e+08</td>\n",
       "      <td>644581295</td>\n",
       "      <td>0</td>\n",
       "    </tr>\n",
       "    <tr>\n",
       "      <th>fne0y3wBUYUoev8F5RZa</th>\n",
       "      <td>nlargest</td>\n",
       "      <td>0.50</td>\n",
       "      <td>0.699961</td>\n",
       "      <td>0.435124</td>\n",
       "      <td>8.362249e+08</td>\n",
       "      <td>6.393354e+08</td>\n",
       "      <td>644581295</td>\n",
       "      <td>1</td>\n",
       "    </tr>\n",
       "    <tr>\n",
       "      <th>gHe0y3wBUYUoev8F5Ra_</th>\n",
       "      <td>nlargest</td>\n",
       "      <td>0.50</td>\n",
       "      <td>0.799941</td>\n",
       "      <td>0.380806</td>\n",
       "      <td>8.362249e+08</td>\n",
       "      <td>6.393354e+08</td>\n",
       "      <td>644581295</td>\n",
       "      <td>2</td>\n",
       "    </tr>\n",
       "    <tr>\n",
       "      <th>gne0y3wBUYUoev8F5hY2</th>\n",
       "      <td>nlargest</td>\n",
       "      <td>0.50</td>\n",
       "      <td>0.899922</td>\n",
       "      <td>0.380806</td>\n",
       "      <td>8.362249e+08</td>\n",
       "      <td>6.393354e+08</td>\n",
       "      <td>644581295</td>\n",
       "      <td>3</td>\n",
       "    </tr>\n",
       "    <tr>\n",
       "      <th>gXe0y3wBUYUoev8F5hYH</th>\n",
       "      <td>nlargest</td>\n",
       "      <td>0.25</td>\n",
       "      <td>0.349980</td>\n",
       "      <td>0.381824</td>\n",
       "      <td>9.877969e+08</td>\n",
       "      <td>7.206667e+08</td>\n",
       "      <td>644581295</td>\n",
       "      <td>0</td>\n",
       "    </tr>\n",
       "    <tr>\n",
       "      <th>g3e0y3wBUYUoev8F5hav</th>\n",
       "      <td>nlargest</td>\n",
       "      <td>0.25</td>\n",
       "      <td>0.449961</td>\n",
       "      <td>0.327236</td>\n",
       "      <td>9.877969e+08</td>\n",
       "      <td>7.206667e+08</td>\n",
       "      <td>644581295</td>\n",
       "      <td>1</td>\n",
       "    </tr>\n",
       "    <tr>\n",
       "      <th>hHe0y3wBUYUoev8F5xY9</th>\n",
       "      <td>nlargest</td>\n",
       "      <td>0.25</td>\n",
       "      <td>0.549941</td>\n",
       "      <td>0.327236</td>\n",
       "      <td>9.877969e+08</td>\n",
       "      <td>7.206667e+08</td>\n",
       "      <td>644581295</td>\n",
       "      <td>2</td>\n",
       "    </tr>\n",
       "    <tr>\n",
       "      <th>hXe0y3wBUYUoev8F5xan</th>\n",
       "      <td>nlargest</td>\n",
       "      <td>0.25</td>\n",
       "      <td>0.649922</td>\n",
       "      <td>0.327236</td>\n",
       "      <td>9.877969e+08</td>\n",
       "      <td>7.206667e+08</td>\n",
       "      <td>644581295</td>\n",
       "      <td>3</td>\n",
       "    </tr>\n",
       "    <tr>\n",
       "      <th>bHejy3wBUYUoev8FuhZR</th>\n",
       "      <td>nlargest</td>\n",
       "      <td>0.10</td>\n",
       "      <td>0.199961</td>\n",
       "      <td>0.373119</td>\n",
       "      <td>1.173028e+09</td>\n",
       "      <td>8.686279e+08</td>\n",
       "      <td>644581295</td>\n",
       "      <td>0</td>\n",
       "    </tr>\n",
       "    <tr>\n",
       "      <th>bXejy3wBUYUoev8FuxYh</th>\n",
       "      <td>nlargest</td>\n",
       "      <td>0.10</td>\n",
       "      <td>0.299941</td>\n",
       "      <td>0.373119</td>\n",
       "      <td>9.914954e+08</td>\n",
       "      <td>6.652837e+08</td>\n",
       "      <td>644581295</td>\n",
       "      <td>1</td>\n",
       "    </tr>\n",
       "    <tr>\n",
       "      <th>bnejy3wBUYUoev8Fuxbr</th>\n",
       "      <td>nlargest</td>\n",
       "      <td>0.10</td>\n",
       "      <td>0.399922</td>\n",
       "      <td>0.373119</td>\n",
       "      <td>9.749553e+08</td>\n",
       "      <td>6.334362e+08</td>\n",
       "      <td>644581295</td>\n",
       "      <td>2</td>\n",
       "    </tr>\n",
       "    <tr>\n",
       "      <th>b3ejy3wBUYUoev8FvBa4</th>\n",
       "      <td>nlargest</td>\n",
       "      <td>0.10</td>\n",
       "      <td>0.499902</td>\n",
       "      <td>0.373119</td>\n",
       "      <td>9.206256e+08</td>\n",
       "      <td>5.869260e+08</td>\n",
       "      <td>644581295</td>\n",
       "      <td>3</td>\n",
       "    </tr>\n",
       "    <tr>\n",
       "      <th>iXe1y3wBUYUoev8FoRZe</th>\n",
       "      <td>nlargest</td>\n",
       "      <td>0.10</td>\n",
       "      <td>0.199961</td>\n",
       "      <td>0.373119</td>\n",
       "      <td>1.173028e+09</td>\n",
       "      <td>8.686279e+08</td>\n",
       "      <td>644581295</td>\n",
       "      <td>0</td>\n",
       "    </tr>\n",
       "    <tr>\n",
       "      <th>ine1y3wBUYUoev8FoRbA</th>\n",
       "      <td>nlargest</td>\n",
       "      <td>0.10</td>\n",
       "      <td>0.299941</td>\n",
       "      <td>0.373119</td>\n",
       "      <td>9.914954e+08</td>\n",
       "      <td>6.652837e+08</td>\n",
       "      <td>644581295</td>\n",
       "      <td>1</td>\n",
       "    </tr>\n",
       "    <tr>\n",
       "      <th>i3e1y3wBUYUoev8FohYh</th>\n",
       "      <td>nlargest</td>\n",
       "      <td>0.10</td>\n",
       "      <td>0.399922</td>\n",
       "      <td>0.373119</td>\n",
       "      <td>9.749553e+08</td>\n",
       "      <td>6.334362e+08</td>\n",
       "      <td>644581295</td>\n",
       "      <td>2</td>\n",
       "    </tr>\n",
       "    <tr>\n",
       "      <th>jHe1y3wBUYUoev8FohaC</th>\n",
       "      <td>nlargest</td>\n",
       "      <td>0.10</td>\n",
       "      <td>0.499902</td>\n",
       "      <td>0.318596</td>\n",
       "      <td>9.749553e+08</td>\n",
       "      <td>6.334362e+08</td>\n",
       "      <td>644581295</td>\n",
       "      <td>3</td>\n",
       "    </tr>\n",
       "    <tr>\n",
       "      <th>jne2y3wBUYUoev8FCBYG</th>\n",
       "      <td>nlargest</td>\n",
       "      <td>0.10</td>\n",
       "      <td>0.199961</td>\n",
       "      <td>0.398613</td>\n",
       "      <td>1.207632e+09</td>\n",
       "      <td>6.884747e+08</td>\n",
       "      <td>991068298</td>\n",
       "      <td>0</td>\n",
       "    </tr>\n",
       "    <tr>\n",
       "      <th>j3e2y3wBUYUoev8FCBZ3</th>\n",
       "      <td>nlargest</td>\n",
       "      <td>0.10</td>\n",
       "      <td>0.299941</td>\n",
       "      <td>0.398613</td>\n",
       "      <td>1.111137e+09</td>\n",
       "      <td>4.739845e+08</td>\n",
       "      <td>991068298</td>\n",
       "      <td>1</td>\n",
       "    </tr>\n",
       "    <tr>\n",
       "      <th>kHe2y3wBUYUoev8FCBbc</th>\n",
       "      <td>nlargest</td>\n",
       "      <td>0.10</td>\n",
       "      <td>0.399922</td>\n",
       "      <td>0.049522</td>\n",
       "      <td>1.109567e+09</td>\n",
       "      <td>4.728986e+08</td>\n",
       "      <td>991068298</td>\n",
       "      <td>2</td>\n",
       "    </tr>\n",
       "    <tr>\n",
       "      <th>kXe2y3wBUYUoev8FCRY8</th>\n",
       "      <td>nlargest</td>\n",
       "      <td>0.10</td>\n",
       "      <td>0.499902</td>\n",
       "      <td>0.343989</td>\n",
       "      <td>1.109567e+09</td>\n",
       "      <td>4.728986e+08</td>\n",
       "      <td>991068298</td>\n",
       "      <td>3</td>\n",
       "    </tr>\n",
       "    <tr>\n",
       "      <th>p3e5y3wBUYUoev8FHhb3</th>\n",
       "      <td>nlargest</td>\n",
       "      <td>0.50</td>\n",
       "      <td>0.599980</td>\n",
       "      <td>1.000000</td>\n",
       "      <td>9.933065e+08</td>\n",
       "      <td>5.828362e+08</td>\n",
       "      <td>195341097</td>\n",
       "      <td>0</td>\n",
       "    </tr>\n",
       "    <tr>\n",
       "      <th>qHe5y3wBUYUoev8FHxZl</th>\n",
       "      <td>nlargest</td>\n",
       "      <td>0.50</td>\n",
       "      <td>0.699961</td>\n",
       "      <td>0.331286</td>\n",
       "      <td>9.933065e+08</td>\n",
       "      <td>5.828362e+08</td>\n",
       "      <td>195341097</td>\n",
       "      <td>1</td>\n",
       "    </tr>\n",
       "    <tr>\n",
       "      <th>qXe5y3wBUYUoev8FHxbP</th>\n",
       "      <td>nlargest</td>\n",
       "      <td>0.50</td>\n",
       "      <td>0.799941</td>\n",
       "      <td>0.331286</td>\n",
       "      <td>9.933065e+08</td>\n",
       "      <td>5.828362e+08</td>\n",
       "      <td>195341097</td>\n",
       "      <td>2</td>\n",
       "    </tr>\n",
       "    <tr>\n",
       "      <th>qne5y3wBUYUoev8FIBYx</th>\n",
       "      <td>nlargest</td>\n",
       "      <td>0.50</td>\n",
       "      <td>0.899922</td>\n",
       "      <td>0.331286</td>\n",
       "      <td>9.933065e+08</td>\n",
       "      <td>5.828362e+08</td>\n",
       "      <td>195341097</td>\n",
       "      <td>3</td>\n",
       "    </tr>\n",
       "  </tbody>\n",
       "</table>\n",
       "</div>"
      ],
      "text/plain": [
       "                     config_sampling_mode  training_fraction  \\\n",
       "k3e2y3wBUYUoev8F0hb5             nlargest               0.25   \n",
       "lHe2y3wBUYUoev8F0xZZ             nlargest               0.25   \n",
       "lXe2y3wBUYUoev8F0xa6             nlargest               0.25   \n",
       "lne2y3wBUYUoev8F1BYZ             nlargest               0.25   \n",
       "mHe2y3wBUYUoev8F9xbb             nlargest               0.50   \n",
       "mXe2y3wBUYUoev8F-BZD             nlargest               0.50   \n",
       "mne2y3wBUYUoev8F-Ban             nlargest               0.50   \n",
       "m3e2y3wBUYUoev8F-RYM             nlargest               0.50   \n",
       "nXe4y3wBUYUoev8FIBbX             nlargest               0.10   \n",
       "nne4y3wBUYUoev8FIRY4             nlargest               0.10   \n",
       "n3e4y3wBUYUoev8FIRaY             nlargest               0.10   \n",
       "oHe4y3wBUYUoev8FIRb4             nlargest               0.10   \n",
       "one4y3wBUYUoev8FMxbm             nlargest               0.25   \n",
       "o3e4y3wBUYUoev8FNBZJ             nlargest               0.25   \n",
       "pHe4y3wBUYUoev8FNBar             nlargest               0.25   \n",
       "pXe4y3wBUYUoev8FNRYM             nlargest               0.25   \n",
       "cnexy3wBUYUoev8FnRb6             nlargest               0.10   \n",
       "c3exy3wBUYUoev8FnhbH             nlargest               0.10   \n",
       "dHexy3wBUYUoev8FnxaX             nlargest               0.10   \n",
       "dXexy3wBUYUoev8FoBZf             nlargest               0.10   \n",
       "dnexy3wBUYUoev8FoRYz             nlargest               0.10   \n",
       "d3exy3wBUYUoev8FoRaw             nlargest               0.10   \n",
       "eHexy3wBUYUoev8FohZe             nlargest               0.10   \n",
       "eXexy3wBUYUoev8FoxYt             nlargest               0.10   \n",
       "enexy3wBUYUoev8Foxb7             nlargest               0.10   \n",
       "e3exy3wBUYUoev8FpBbD             nlargest               0.10   \n",
       "fXe0y3wBUYUoev8F5Bby             nlargest               0.50   \n",
       "fne0y3wBUYUoev8F5RZa             nlargest               0.50   \n",
       "gHe0y3wBUYUoev8F5Ra_             nlargest               0.50   \n",
       "gne0y3wBUYUoev8F5hY2             nlargest               0.50   \n",
       "gXe0y3wBUYUoev8F5hYH             nlargest               0.25   \n",
       "g3e0y3wBUYUoev8F5hav             nlargest               0.25   \n",
       "hHe0y3wBUYUoev8F5xY9             nlargest               0.25   \n",
       "hXe0y3wBUYUoev8F5xan             nlargest               0.25   \n",
       "bHejy3wBUYUoev8FuhZR             nlargest               0.10   \n",
       "bXejy3wBUYUoev8FuxYh             nlargest               0.10   \n",
       "bnejy3wBUYUoev8Fuxbr             nlargest               0.10   \n",
       "b3ejy3wBUYUoev8FvBa4             nlargest               0.10   \n",
       "iXe1y3wBUYUoev8FoRZe             nlargest               0.10   \n",
       "ine1y3wBUYUoev8FoRbA             nlargest               0.10   \n",
       "i3e1y3wBUYUoev8FohYh             nlargest               0.10   \n",
       "jHe1y3wBUYUoev8FohaC             nlargest               0.10   \n",
       "jne2y3wBUYUoev8FCBYG             nlargest               0.10   \n",
       "j3e2y3wBUYUoev8FCBZ3             nlargest               0.10   \n",
       "kHe2y3wBUYUoev8FCBbc             nlargest               0.10   \n",
       "kXe2y3wBUYUoev8FCRY8             nlargest               0.10   \n",
       "p3e5y3wBUYUoev8FHhb3             nlargest               0.50   \n",
       "qHe5y3wBUYUoev8FHxZl             nlargest               0.50   \n",
       "qXe5y3wBUYUoev8FHxbP             nlargest               0.50   \n",
       "qne5y3wBUYUoev8FIBYx             nlargest               0.50   \n",
       "\n",
       "                      updated_model.fraction_of_train  \\\n",
       "k3e2y3wBUYUoev8F0hb5                         0.349980   \n",
       "lHe2y3wBUYUoev8F0xZZ                         0.449961   \n",
       "lXe2y3wBUYUoev8F0xa6                         0.549941   \n",
       "lne2y3wBUYUoev8F1BYZ                         0.649922   \n",
       "mHe2y3wBUYUoev8F9xbb                         0.599980   \n",
       "mXe2y3wBUYUoev8F-BZD                         0.699961   \n",
       "mne2y3wBUYUoev8F-Ban                         0.799941   \n",
       "m3e2y3wBUYUoev8F-RYM                         0.899922   \n",
       "nXe4y3wBUYUoev8FIBbX                         0.199961   \n",
       "nne4y3wBUYUoev8FIRY4                         0.299941   \n",
       "n3e4y3wBUYUoev8FIRaY                         0.399922   \n",
       "oHe4y3wBUYUoev8FIRb4                         0.499902   \n",
       "one4y3wBUYUoev8FMxbm                         0.349980   \n",
       "o3e4y3wBUYUoev8FNBZJ                         0.449961   \n",
       "pHe4y3wBUYUoev8FNBar                         0.549941   \n",
       "pXe4y3wBUYUoev8FNRYM                         0.649922   \n",
       "cnexy3wBUYUoev8FnRb6                         0.199961   \n",
       "c3exy3wBUYUoev8FnhbH                         0.299941   \n",
       "dHexy3wBUYUoev8FnxaX                         0.399922   \n",
       "dXexy3wBUYUoev8FoBZf                         0.499902   \n",
       "dnexy3wBUYUoev8FoRYz                         0.599883   \n",
       "d3exy3wBUYUoev8FoRaw                         0.699863   \n",
       "eHexy3wBUYUoev8FohZe                         0.799844   \n",
       "eXexy3wBUYUoev8FoxYt                         0.899824   \n",
       "enexy3wBUYUoev8Foxb7                         0.999805   \n",
       "e3exy3wBUYUoev8FpBbD                         1.000000   \n",
       "fXe0y3wBUYUoev8F5Bby                         0.599980   \n",
       "fne0y3wBUYUoev8F5RZa                         0.699961   \n",
       "gHe0y3wBUYUoev8F5Ra_                         0.799941   \n",
       "gne0y3wBUYUoev8F5hY2                         0.899922   \n",
       "gXe0y3wBUYUoev8F5hYH                         0.349980   \n",
       "g3e0y3wBUYUoev8F5hav                         0.449961   \n",
       "hHe0y3wBUYUoev8F5xY9                         0.549941   \n",
       "hXe0y3wBUYUoev8F5xan                         0.649922   \n",
       "bHejy3wBUYUoev8FuhZR                         0.199961   \n",
       "bXejy3wBUYUoev8FuxYh                         0.299941   \n",
       "bnejy3wBUYUoev8Fuxbr                         0.399922   \n",
       "b3ejy3wBUYUoev8FvBa4                         0.499902   \n",
       "iXe1y3wBUYUoev8FoRZe                         0.199961   \n",
       "ine1y3wBUYUoev8FoRbA                         0.299941   \n",
       "i3e1y3wBUYUoev8FohYh                         0.399922   \n",
       "jHe1y3wBUYUoev8FohaC                         0.499902   \n",
       "jne2y3wBUYUoev8FCBYG                         0.199961   \n",
       "j3e2y3wBUYUoev8FCBZ3                         0.299941   \n",
       "kHe2y3wBUYUoev8FCBbc                         0.399922   \n",
       "kXe2y3wBUYUoev8FCRY8                         0.499902   \n",
       "p3e5y3wBUYUoev8FHhb3                         0.599980   \n",
       "qHe5y3wBUYUoev8FHxZl                         0.699961   \n",
       "qXe5y3wBUYUoev8FHxbP                         0.799941   \n",
       "qne5y3wBUYUoev8FIBYx                         0.899922   \n",
       "\n",
       "                      updated_model.hyperparameters.retrained_tree_eta  \\\n",
       "k3e2y3wBUYUoev8F0hb5                                          0.452951   \n",
       "lHe2y3wBUYUoev8F0xZZ                                          1.000000   \n",
       "lXe2y3wBUYUoev8F0xa6                                          0.398967   \n",
       "lne2y3wBUYUoev8F1BYZ                                          0.398967   \n",
       "mHe2y3wBUYUoev8F9xbb                                          0.355451   \n",
       "mXe2y3wBUYUoev8F-BZD                                          0.301159   \n",
       "mne2y3wBUYUoev8F-Ban                                          0.301159   \n",
       "m3e2y3wBUYUoev8F-RYM                                          0.301159   \n",
       "nXe4y3wBUYUoev8FIBbX                                          0.134388   \n",
       "nne4y3wBUYUoev8FIRY4                                          0.372485   \n",
       "n3e4y3wBUYUoev8FIRaY                                          0.317967   \n",
       "oHe4y3wBUYUoev8FIRb4                                          0.317967   \n",
       "one4y3wBUYUoev8FMxbm                                          0.368071   \n",
       "o3e4y3wBUYUoev8FNBZJ                                          0.368071   \n",
       "pHe4y3wBUYUoev8FNBar                                          0.313600   \n",
       "pXe4y3wBUYUoev8FNRYM                                          0.313600   \n",
       "cnexy3wBUYUoev8FnRb6                                          0.398613   \n",
       "c3exy3wBUYUoev8FnhbH                                          0.398613   \n",
       "dHexy3wBUYUoev8FnxaX                                          0.049522   \n",
       "dXexy3wBUYUoev8FoBZf                                          0.072252   \n",
       "dnexy3wBUYUoev8FoRYz                                          0.158893   \n",
       "d3exy3wBUYUoev8FoRaw                                          0.072252   \n",
       "eHexy3wBUYUoev8FohZe                                          0.049522   \n",
       "eXexy3wBUYUoev8FoxYt                                          0.398613   \n",
       "enexy3wBUYUoev8Foxb7                                          0.398613   \n",
       "e3exy3wBUYUoev8FpBbD                                          0.049522   \n",
       "fXe0y3wBUYUoev8F5Bby                                          0.435124   \n",
       "fne0y3wBUYUoev8F5RZa                                          0.435124   \n",
       "gHe0y3wBUYUoev8F5Ra_                                          0.380806   \n",
       "gne0y3wBUYUoev8F5hY2                                          0.380806   \n",
       "gXe0y3wBUYUoev8F5hYH                                          0.381824   \n",
       "g3e0y3wBUYUoev8F5hav                                          0.327236   \n",
       "hHe0y3wBUYUoev8F5xY9                                          0.327236   \n",
       "hXe0y3wBUYUoev8F5xan                                          0.327236   \n",
       "bHejy3wBUYUoev8FuhZR                                          0.373119   \n",
       "bXejy3wBUYUoev8FuxYh                                          0.373119   \n",
       "bnejy3wBUYUoev8Fuxbr                                          0.373119   \n",
       "b3ejy3wBUYUoev8FvBa4                                          0.373119   \n",
       "iXe1y3wBUYUoev8FoRZe                                          0.373119   \n",
       "ine1y3wBUYUoev8FoRbA                                          0.373119   \n",
       "i3e1y3wBUYUoev8FohYh                                          0.373119   \n",
       "jHe1y3wBUYUoev8FohaC                                          0.318596   \n",
       "jne2y3wBUYUoev8FCBYG                                          0.398613   \n",
       "j3e2y3wBUYUoev8FCBZ3                                          0.398613   \n",
       "kHe2y3wBUYUoev8FCBbc                                          0.049522   \n",
       "kXe2y3wBUYUoev8FCRY8                                          0.343989   \n",
       "p3e5y3wBUYUoev8FHhb3                                          1.000000   \n",
       "qHe5y3wBUYUoev8FHxZl                                          0.331286   \n",
       "qXe5y3wBUYUoev8FHxbP                                          0.331286   \n",
       "qne5y3wBUYUoev8FIBYx                                          0.331286   \n",
       "\n",
       "                      updated_model.test_error  updated_model.train_error  \\\n",
       "k3e2y3wBUYUoev8F0hb5              1.087295e+09               8.366517e+08   \n",
       "lHe2y3wBUYUoev8F0xZZ              1.109733e+09               7.904086e+08   \n",
       "lXe2y3wBUYUoev8F0xa6              1.109733e+09               7.904086e+08   \n",
       "lne2y3wBUYUoev8F1BYZ              1.109733e+09               7.904086e+08   \n",
       "mHe2y3wBUYUoev8F9xbb              9.755880e+08               3.302613e+08   \n",
       "mXe2y3wBUYUoev8F-BZD              9.755880e+08               3.302613e+08   \n",
       "mne2y3wBUYUoev8F-Ban              9.755880e+08               3.302613e+08   \n",
       "m3e2y3wBUYUoev8F-RYM              9.755880e+08               3.302613e+08   \n",
       "nXe4y3wBUYUoev8FIBbX              1.096357e+09               6.579423e+08   \n",
       "nne4y3wBUYUoev8FIRY4              1.001643e+09               4.398897e+08   \n",
       "n3e4y3wBUYUoev8FIRaY              1.001643e+09               4.398897e+08   \n",
       "oHe4y3wBUYUoev8FIRb4              1.001643e+09               4.398897e+08   \n",
       "one4y3wBUYUoev8FMxbm              1.021350e+09               6.241195e+08   \n",
       "o3e4y3wBUYUoev8FNBZJ              9.814534e+08               5.924988e+08   \n",
       "pHe4y3wBUYUoev8FNBar              9.814534e+08               5.924988e+08   \n",
       "pXe4y3wBUYUoev8FNRYM              9.814534e+08               5.924988e+08   \n",
       "cnexy3wBUYUoev8FnRb6              1.207632e+09               6.884747e+08   \n",
       "c3exy3wBUYUoev8FnhbH              1.111137e+09               4.739845e+08   \n",
       "dHexy3wBUYUoev8FnxaX              1.109567e+09               4.728986e+08   \n",
       "dXexy3wBUYUoev8FoBZf              1.108977e+09               4.726236e+08   \n",
       "dnexy3wBUYUoev8FoRYz              1.107394e+09               4.700727e+08   \n",
       "d3exy3wBUYUoev8FoRaw              1.097101e+09               4.768104e+08   \n",
       "eHexy3wBUYUoev8FohZe              1.095774e+09               4.766545e+08   \n",
       "eXexy3wBUYUoev8FoxYt              1.094657e+09               4.740025e+08   \n",
       "enexy3wBUYUoev8Foxb7              1.096877e+09               4.797909e+08   \n",
       "e3exy3wBUYUoev8FpBbD              1.096936e+09               4.798571e+08   \n",
       "fXe0y3wBUYUoev8F5Bby              8.453687e+08               6.548070e+08   \n",
       "fne0y3wBUYUoev8F5RZa              8.362249e+08               6.393354e+08   \n",
       "gHe0y3wBUYUoev8F5Ra_              8.362249e+08               6.393354e+08   \n",
       "gne0y3wBUYUoev8F5hY2              8.362249e+08               6.393354e+08   \n",
       "gXe0y3wBUYUoev8F5hYH              9.877969e+08               7.206667e+08   \n",
       "g3e0y3wBUYUoev8F5hav              9.877969e+08               7.206667e+08   \n",
       "hHe0y3wBUYUoev8F5xY9              9.877969e+08               7.206667e+08   \n",
       "hXe0y3wBUYUoev8F5xan              9.877969e+08               7.206667e+08   \n",
       "bHejy3wBUYUoev8FuhZR              1.173028e+09               8.686279e+08   \n",
       "bXejy3wBUYUoev8FuxYh              9.914954e+08               6.652837e+08   \n",
       "bnejy3wBUYUoev8Fuxbr              9.749553e+08               6.334362e+08   \n",
       "b3ejy3wBUYUoev8FvBa4              9.206256e+08               5.869260e+08   \n",
       "iXe1y3wBUYUoev8FoRZe              1.173028e+09               8.686279e+08   \n",
       "ine1y3wBUYUoev8FoRbA              9.914954e+08               6.652837e+08   \n",
       "i3e1y3wBUYUoev8FohYh              9.749553e+08               6.334362e+08   \n",
       "jHe1y3wBUYUoev8FohaC              9.749553e+08               6.334362e+08   \n",
       "jne2y3wBUYUoev8FCBYG              1.207632e+09               6.884747e+08   \n",
       "j3e2y3wBUYUoev8FCBZ3              1.111137e+09               4.739845e+08   \n",
       "kHe2y3wBUYUoev8FCBbc              1.109567e+09               4.728986e+08   \n",
       "kXe2y3wBUYUoev8FCRY8              1.109567e+09               4.728986e+08   \n",
       "p3e5y3wBUYUoev8FHhb3              9.933065e+08               5.828362e+08   \n",
       "qHe5y3wBUYUoev8FHxZl              9.933065e+08               5.828362e+08   \n",
       "qXe5y3wBUYUoev8FHxbP              9.933065e+08               5.828362e+08   \n",
       "qne5y3wBUYUoev8FIBYx              9.933065e+08               5.828362e+08   \n",
       "\n",
       "                           seed  step  \n",
       "k3e2y3wBUYUoev8F0hb5  991068298     0  \n",
       "lHe2y3wBUYUoev8F0xZZ  991068298     1  \n",
       "lXe2y3wBUYUoev8F0xa6  991068298     2  \n",
       "lne2y3wBUYUoev8F1BYZ  991068298     3  \n",
       "mHe2y3wBUYUoev8F9xbb  991068298     0  \n",
       "mXe2y3wBUYUoev8F-BZD  991068298     1  \n",
       "mne2y3wBUYUoev8F-Ban  991068298     2  \n",
       "m3e2y3wBUYUoev8F-RYM  991068298     3  \n",
       "nXe4y3wBUYUoev8FIBbX  195341097     0  \n",
       "nne4y3wBUYUoev8FIRY4  195341097     1  \n",
       "n3e4y3wBUYUoev8FIRaY  195341097     2  \n",
       "oHe4y3wBUYUoev8FIRb4  195341097     3  \n",
       "one4y3wBUYUoev8FMxbm  195341097     0  \n",
       "o3e4y3wBUYUoev8FNBZJ  195341097     1  \n",
       "pHe4y3wBUYUoev8FNBar  195341097     2  \n",
       "pXe4y3wBUYUoev8FNRYM  195341097     3  \n",
       "cnexy3wBUYUoev8FnRb6  991068298     0  \n",
       "c3exy3wBUYUoev8FnhbH  991068298     1  \n",
       "dHexy3wBUYUoev8FnxaX  991068298     2  \n",
       "dXexy3wBUYUoev8FoBZf  991068298     3  \n",
       "dnexy3wBUYUoev8FoRYz  991068298     4  \n",
       "d3exy3wBUYUoev8FoRaw  991068298     5  \n",
       "eHexy3wBUYUoev8FohZe  991068298     6  \n",
       "eXexy3wBUYUoev8FoxYt  991068298     7  \n",
       "enexy3wBUYUoev8Foxb7  991068298     8  \n",
       "e3exy3wBUYUoev8FpBbD  991068298     9  \n",
       "fXe0y3wBUYUoev8F5Bby  644581295     0  \n",
       "fne0y3wBUYUoev8F5RZa  644581295     1  \n",
       "gHe0y3wBUYUoev8F5Ra_  644581295     2  \n",
       "gne0y3wBUYUoev8F5hY2  644581295     3  \n",
       "gXe0y3wBUYUoev8F5hYH  644581295     0  \n",
       "g3e0y3wBUYUoev8F5hav  644581295     1  \n",
       "hHe0y3wBUYUoev8F5xY9  644581295     2  \n",
       "hXe0y3wBUYUoev8F5xan  644581295     3  \n",
       "bHejy3wBUYUoev8FuhZR  644581295     0  \n",
       "bXejy3wBUYUoev8FuxYh  644581295     1  \n",
       "bnejy3wBUYUoev8Fuxbr  644581295     2  \n",
       "b3ejy3wBUYUoev8FvBa4  644581295     3  \n",
       "iXe1y3wBUYUoev8FoRZe  644581295     0  \n",
       "ine1y3wBUYUoev8FoRbA  644581295     1  \n",
       "i3e1y3wBUYUoev8FohYh  644581295     2  \n",
       "jHe1y3wBUYUoev8FohaC  644581295     3  \n",
       "jne2y3wBUYUoev8FCBYG  991068298     0  \n",
       "j3e2y3wBUYUoev8FCBZ3  991068298     1  \n",
       "kHe2y3wBUYUoev8FCBbc  991068298     2  \n",
       "kXe2y3wBUYUoev8FCRY8  991068298     3  \n",
       "p3e5y3wBUYUoev8FHhb3  195341097     0  \n",
       "qHe5y3wBUYUoev8FHxZl  195341097     1  \n",
       "qXe5y3wBUYUoev8FHxbP  195341097     2  \n",
       "qne5y3wBUYUoev8FIBYx  195341097     3  "
      ]
     },
     "execution_count": 90,
     "metadata": {},
     "output_type": "execute_result"
    }
   ],
   "source": [
    "data_df"
   ]
  },
  {
   "cell_type": "code",
   "execution_count": 126,
   "id": "47675b4a",
   "metadata": {},
   "outputs": [
    {
     "data": {
      "application/vnd.plotly.v1+json": {
       "config": {
        "plotlyServerURL": "https://plot.ly"
       },
       "data": [
        {
         "mode": "lines",
         "name": "0.1",
         "type": "scatter",
         "x": [
          0.19996098322278577,
          0.29994147483417866,
          0.39992196644557154,
          0.49990245805696454,
          0.5998829496683573,
          0.6998634412797503,
          0.7998439328911432,
          0.8998244245025361,
          0.999804916113929,
          1
         ],
         "y": [
          1171535390.2281468,
          1041381449.2272495,
          1034137406.4155662,
          1023153576.6186097,
          1107393973.0933452,
          1097100510.8913403,
          1095773771.9882314,
          1094657289.006727,
          1096876604.6242003,
          1096935942.725702
         ]
        },
        {
         "mode": "lines",
         "name": "0.25",
         "type": "scatter",
         "x": [
          0.3499804916113929,
          0.44996098322278577,
          0.5499414748341787,
          0.6499219664455715
         ],
         "y": [
          1032147200.3778496,
          1026327868.7675962,
          1026327868.7675962,
          1026327868.7675962
         ]
        },
        {
         "mode": "lines",
         "name": "0.5",
         "type": "scatter",
         "x": [
          0.5999804916113929,
          0.6999609832227858,
          0.7999414748341787,
          0.8999219664455715
         ],
         "y": [
          938087713.2951967,
          935039785.2090855,
          935039785.2090855,
          935039785.2090855
         ]
        },
        {
         "mode": "lines",
         "name": "baseline",
         "type": "scatter",
         "x": [
          0.10000000149011612,
          0.25,
          0.5,
          0.75,
          1
         ],
         "y": [
          1131689941.3333333,
          1059204693.3333334,
          965267178.6666666,
          939283712,
          890918848
         ]
        }
       ],
       "layout": {
        "legend": {
         "title": {
          "text": "training fraction"
         }
        },
        "template": {
         "data": {
          "bar": [
           {
            "error_x": {
             "color": "#2a3f5f"
            },
            "error_y": {
             "color": "#2a3f5f"
            },
            "marker": {
             "line": {
              "color": "#E5ECF6",
              "width": 0.5
             },
             "pattern": {
              "fillmode": "overlay",
              "size": 10,
              "solidity": 0.2
             }
            },
            "type": "bar"
           }
          ],
          "barpolar": [
           {
            "marker": {
             "line": {
              "color": "#E5ECF6",
              "width": 0.5
             },
             "pattern": {
              "fillmode": "overlay",
              "size": 10,
              "solidity": 0.2
             }
            },
            "type": "barpolar"
           }
          ],
          "carpet": [
           {
            "aaxis": {
             "endlinecolor": "#2a3f5f",
             "gridcolor": "white",
             "linecolor": "white",
             "minorgridcolor": "white",
             "startlinecolor": "#2a3f5f"
            },
            "baxis": {
             "endlinecolor": "#2a3f5f",
             "gridcolor": "white",
             "linecolor": "white",
             "minorgridcolor": "white",
             "startlinecolor": "#2a3f5f"
            },
            "type": "carpet"
           }
          ],
          "choropleth": [
           {
            "colorbar": {
             "outlinewidth": 0,
             "ticks": ""
            },
            "type": "choropleth"
           }
          ],
          "contour": [
           {
            "colorbar": {
             "outlinewidth": 0,
             "ticks": ""
            },
            "colorscale": [
             [
              0,
              "#0d0887"
             ],
             [
              0.1111111111111111,
              "#46039f"
             ],
             [
              0.2222222222222222,
              "#7201a8"
             ],
             [
              0.3333333333333333,
              "#9c179e"
             ],
             [
              0.4444444444444444,
              "#bd3786"
             ],
             [
              0.5555555555555556,
              "#d8576b"
             ],
             [
              0.6666666666666666,
              "#ed7953"
             ],
             [
              0.7777777777777778,
              "#fb9f3a"
             ],
             [
              0.8888888888888888,
              "#fdca26"
             ],
             [
              1,
              "#f0f921"
             ]
            ],
            "type": "contour"
           }
          ],
          "contourcarpet": [
           {
            "colorbar": {
             "outlinewidth": 0,
             "ticks": ""
            },
            "type": "contourcarpet"
           }
          ],
          "heatmap": [
           {
            "colorbar": {
             "outlinewidth": 0,
             "ticks": ""
            },
            "colorscale": [
             [
              0,
              "#0d0887"
             ],
             [
              0.1111111111111111,
              "#46039f"
             ],
             [
              0.2222222222222222,
              "#7201a8"
             ],
             [
              0.3333333333333333,
              "#9c179e"
             ],
             [
              0.4444444444444444,
              "#bd3786"
             ],
             [
              0.5555555555555556,
              "#d8576b"
             ],
             [
              0.6666666666666666,
              "#ed7953"
             ],
             [
              0.7777777777777778,
              "#fb9f3a"
             ],
             [
              0.8888888888888888,
              "#fdca26"
             ],
             [
              1,
              "#f0f921"
             ]
            ],
            "type": "heatmap"
           }
          ],
          "heatmapgl": [
           {
            "colorbar": {
             "outlinewidth": 0,
             "ticks": ""
            },
            "colorscale": [
             [
              0,
              "#0d0887"
             ],
             [
              0.1111111111111111,
              "#46039f"
             ],
             [
              0.2222222222222222,
              "#7201a8"
             ],
             [
              0.3333333333333333,
              "#9c179e"
             ],
             [
              0.4444444444444444,
              "#bd3786"
             ],
             [
              0.5555555555555556,
              "#d8576b"
             ],
             [
              0.6666666666666666,
              "#ed7953"
             ],
             [
              0.7777777777777778,
              "#fb9f3a"
             ],
             [
              0.8888888888888888,
              "#fdca26"
             ],
             [
              1,
              "#f0f921"
             ]
            ],
            "type": "heatmapgl"
           }
          ],
          "histogram": [
           {
            "marker": {
             "pattern": {
              "fillmode": "overlay",
              "size": 10,
              "solidity": 0.2
             }
            },
            "type": "histogram"
           }
          ],
          "histogram2d": [
           {
            "colorbar": {
             "outlinewidth": 0,
             "ticks": ""
            },
            "colorscale": [
             [
              0,
              "#0d0887"
             ],
             [
              0.1111111111111111,
              "#46039f"
             ],
             [
              0.2222222222222222,
              "#7201a8"
             ],
             [
              0.3333333333333333,
              "#9c179e"
             ],
             [
              0.4444444444444444,
              "#bd3786"
             ],
             [
              0.5555555555555556,
              "#d8576b"
             ],
             [
              0.6666666666666666,
              "#ed7953"
             ],
             [
              0.7777777777777778,
              "#fb9f3a"
             ],
             [
              0.8888888888888888,
              "#fdca26"
             ],
             [
              1,
              "#f0f921"
             ]
            ],
            "type": "histogram2d"
           }
          ],
          "histogram2dcontour": [
           {
            "colorbar": {
             "outlinewidth": 0,
             "ticks": ""
            },
            "colorscale": [
             [
              0,
              "#0d0887"
             ],
             [
              0.1111111111111111,
              "#46039f"
             ],
             [
              0.2222222222222222,
              "#7201a8"
             ],
             [
              0.3333333333333333,
              "#9c179e"
             ],
             [
              0.4444444444444444,
              "#bd3786"
             ],
             [
              0.5555555555555556,
              "#d8576b"
             ],
             [
              0.6666666666666666,
              "#ed7953"
             ],
             [
              0.7777777777777778,
              "#fb9f3a"
             ],
             [
              0.8888888888888888,
              "#fdca26"
             ],
             [
              1,
              "#f0f921"
             ]
            ],
            "type": "histogram2dcontour"
           }
          ],
          "mesh3d": [
           {
            "colorbar": {
             "outlinewidth": 0,
             "ticks": ""
            },
            "type": "mesh3d"
           }
          ],
          "parcoords": [
           {
            "line": {
             "colorbar": {
              "outlinewidth": 0,
              "ticks": ""
             }
            },
            "type": "parcoords"
           }
          ],
          "pie": [
           {
            "automargin": true,
            "type": "pie"
           }
          ],
          "scatter": [
           {
            "marker": {
             "colorbar": {
              "outlinewidth": 0,
              "ticks": ""
             }
            },
            "type": "scatter"
           }
          ],
          "scatter3d": [
           {
            "line": {
             "colorbar": {
              "outlinewidth": 0,
              "ticks": ""
             }
            },
            "marker": {
             "colorbar": {
              "outlinewidth": 0,
              "ticks": ""
             }
            },
            "type": "scatter3d"
           }
          ],
          "scattercarpet": [
           {
            "marker": {
             "colorbar": {
              "outlinewidth": 0,
              "ticks": ""
             }
            },
            "type": "scattercarpet"
           }
          ],
          "scattergeo": [
           {
            "marker": {
             "colorbar": {
              "outlinewidth": 0,
              "ticks": ""
             }
            },
            "type": "scattergeo"
           }
          ],
          "scattergl": [
           {
            "marker": {
             "colorbar": {
              "outlinewidth": 0,
              "ticks": ""
             }
            },
            "type": "scattergl"
           }
          ],
          "scattermapbox": [
           {
            "marker": {
             "colorbar": {
              "outlinewidth": 0,
              "ticks": ""
             }
            },
            "type": "scattermapbox"
           }
          ],
          "scatterpolar": [
           {
            "marker": {
             "colorbar": {
              "outlinewidth": 0,
              "ticks": ""
             }
            },
            "type": "scatterpolar"
           }
          ],
          "scatterpolargl": [
           {
            "marker": {
             "colorbar": {
              "outlinewidth": 0,
              "ticks": ""
             }
            },
            "type": "scatterpolargl"
           }
          ],
          "scatterternary": [
           {
            "marker": {
             "colorbar": {
              "outlinewidth": 0,
              "ticks": ""
             }
            },
            "type": "scatterternary"
           }
          ],
          "surface": [
           {
            "colorbar": {
             "outlinewidth": 0,
             "ticks": ""
            },
            "colorscale": [
             [
              0,
              "#0d0887"
             ],
             [
              0.1111111111111111,
              "#46039f"
             ],
             [
              0.2222222222222222,
              "#7201a8"
             ],
             [
              0.3333333333333333,
              "#9c179e"
             ],
             [
              0.4444444444444444,
              "#bd3786"
             ],
             [
              0.5555555555555556,
              "#d8576b"
             ],
             [
              0.6666666666666666,
              "#ed7953"
             ],
             [
              0.7777777777777778,
              "#fb9f3a"
             ],
             [
              0.8888888888888888,
              "#fdca26"
             ],
             [
              1,
              "#f0f921"
             ]
            ],
            "type": "surface"
           }
          ],
          "table": [
           {
            "cells": {
             "fill": {
              "color": "#EBF0F8"
             },
             "line": {
              "color": "white"
             }
            },
            "header": {
             "fill": {
              "color": "#C8D4E3"
             },
             "line": {
              "color": "white"
             }
            },
            "type": "table"
           }
          ]
         },
         "layout": {
          "annotationdefaults": {
           "arrowcolor": "#2a3f5f",
           "arrowhead": 0,
           "arrowwidth": 1
          },
          "autotypenumbers": "strict",
          "coloraxis": {
           "colorbar": {
            "outlinewidth": 0,
            "ticks": ""
           }
          },
          "colorscale": {
           "diverging": [
            [
             0,
             "#8e0152"
            ],
            [
             0.1,
             "#c51b7d"
            ],
            [
             0.2,
             "#de77ae"
            ],
            [
             0.3,
             "#f1b6da"
            ],
            [
             0.4,
             "#fde0ef"
            ],
            [
             0.5,
             "#f7f7f7"
            ],
            [
             0.6,
             "#e6f5d0"
            ],
            [
             0.7,
             "#b8e186"
            ],
            [
             0.8,
             "#7fbc41"
            ],
            [
             0.9,
             "#4d9221"
            ],
            [
             1,
             "#276419"
            ]
           ],
           "sequential": [
            [
             0,
             "#0d0887"
            ],
            [
             0.1111111111111111,
             "#46039f"
            ],
            [
             0.2222222222222222,
             "#7201a8"
            ],
            [
             0.3333333333333333,
             "#9c179e"
            ],
            [
             0.4444444444444444,
             "#bd3786"
            ],
            [
             0.5555555555555556,
             "#d8576b"
            ],
            [
             0.6666666666666666,
             "#ed7953"
            ],
            [
             0.7777777777777778,
             "#fb9f3a"
            ],
            [
             0.8888888888888888,
             "#fdca26"
            ],
            [
             1,
             "#f0f921"
            ]
           ],
           "sequentialminus": [
            [
             0,
             "#0d0887"
            ],
            [
             0.1111111111111111,
             "#46039f"
            ],
            [
             0.2222222222222222,
             "#7201a8"
            ],
            [
             0.3333333333333333,
             "#9c179e"
            ],
            [
             0.4444444444444444,
             "#bd3786"
            ],
            [
             0.5555555555555556,
             "#d8576b"
            ],
            [
             0.6666666666666666,
             "#ed7953"
            ],
            [
             0.7777777777777778,
             "#fb9f3a"
            ],
            [
             0.8888888888888888,
             "#fdca26"
            ],
            [
             1,
             "#f0f921"
            ]
           ]
          },
          "colorway": [
           "#636efa",
           "#EF553B",
           "#00cc96",
           "#ab63fa",
           "#FFA15A",
           "#19d3f3",
           "#FF6692",
           "#B6E880",
           "#FF97FF",
           "#FECB52"
          ],
          "font": {
           "color": "#2a3f5f"
          },
          "geo": {
           "bgcolor": "white",
           "lakecolor": "white",
           "landcolor": "#E5ECF6",
           "showlakes": true,
           "showland": true,
           "subunitcolor": "white"
          },
          "hoverlabel": {
           "align": "left"
          },
          "hovermode": "closest",
          "mapbox": {
           "style": "light"
          },
          "paper_bgcolor": "white",
          "plot_bgcolor": "#E5ECF6",
          "polar": {
           "angularaxis": {
            "gridcolor": "white",
            "linecolor": "white",
            "ticks": ""
           },
           "bgcolor": "#E5ECF6",
           "radialaxis": {
            "gridcolor": "white",
            "linecolor": "white",
            "ticks": ""
           }
          },
          "scene": {
           "xaxis": {
            "backgroundcolor": "#E5ECF6",
            "gridcolor": "white",
            "gridwidth": 2,
            "linecolor": "white",
            "showbackground": true,
            "ticks": "",
            "zerolinecolor": "white"
           },
           "yaxis": {
            "backgroundcolor": "#E5ECF6",
            "gridcolor": "white",
            "gridwidth": 2,
            "linecolor": "white",
            "showbackground": true,
            "ticks": "",
            "zerolinecolor": "white"
           },
           "zaxis": {
            "backgroundcolor": "#E5ECF6",
            "gridcolor": "white",
            "gridwidth": 2,
            "linecolor": "white",
            "showbackground": true,
            "ticks": "",
            "zerolinecolor": "white"
           }
          },
          "shapedefaults": {
           "line": {
            "color": "#2a3f5f"
           }
          },
          "ternary": {
           "aaxis": {
            "gridcolor": "white",
            "linecolor": "white",
            "ticks": ""
           },
           "baxis": {
            "gridcolor": "white",
            "linecolor": "white",
            "ticks": ""
           },
           "bgcolor": "#E5ECF6",
           "caxis": {
            "gridcolor": "white",
            "linecolor": "white",
            "ticks": ""
           }
          },
          "title": {
           "x": 0.05
          },
          "xaxis": {
           "automargin": true,
           "gridcolor": "white",
           "linecolor": "white",
           "ticks": "",
           "title": {
            "standoff": 15
           },
           "zerolinecolor": "white",
           "zerolinewidth": 2
          },
          "yaxis": {
           "automargin": true,
           "gridcolor": "white",
           "linecolor": "white",
           "ticks": "",
           "title": {
            "standoff": 15
           },
           "zerolinecolor": "white",
           "zerolinewidth": 2
          }
         }
        },
        "title": {
         "text": "Test MSE with mean over seeds"
        },
        "xaxis": {
         "title": {
          "text": "Fraction of train data used"
         }
        },
        "yaxis": {
         "title": {
          "text": "MSE"
         }
        }
       }
      },
      "text/html": [
       "<div>                            <div id=\"e7b77585-347f-499d-bfe7-e99658c5f971\" class=\"plotly-graph-div\" style=\"height:525px; width:100%;\"></div>            <script type=\"text/javascript\">                require([\"plotly\"], function(Plotly) {                    window.PLOTLYENV=window.PLOTLYENV || {};                                    if (document.getElementById(\"e7b77585-347f-499d-bfe7-e99658c5f971\")) {                    Plotly.newPlot(                        \"e7b77585-347f-499d-bfe7-e99658c5f971\",                        [{\"mode\":\"lines\",\"name\":\"0.1\",\"type\":\"scatter\",\"x\":[0.19996098322278577,0.29994147483417866,0.39992196644557154,0.49990245805696454,0.5998829496683573,0.6998634412797503,0.7998439328911432,0.8998244245025361,0.999804916113929,1.0],\"y\":[1171535390.2281468,1041381449.2272495,1034137406.4155662,1023153576.6186097,1107393973.0933452,1097100510.8913403,1095773771.9882314,1094657289.006727,1096876604.6242003,1096935942.725702]},{\"mode\":\"lines\",\"name\":\"0.25\",\"type\":\"scatter\",\"x\":[0.3499804916113929,0.44996098322278577,0.5499414748341787,0.6499219664455715],\"y\":[1032147200.3778496,1026327868.7675962,1026327868.7675962,1026327868.7675962]},{\"mode\":\"lines\",\"name\":\"0.5\",\"type\":\"scatter\",\"x\":[0.5999804916113929,0.6999609832227858,0.7999414748341787,0.8999219664455715],\"y\":[938087713.2951967,935039785.2090855,935039785.2090855,935039785.2090855]},{\"mode\":\"lines\",\"name\":\"baseline\",\"type\":\"scatter\",\"x\":[0.10000000149011612,0.25,0.5,0.75,1.0],\"y\":[1131689941.3333333,1059204693.3333334,965267178.6666666,939283712.0,890918848.0]}],                        {\"legend\":{\"title\":{\"text\":\"training fraction\"}},\"template\":{\"data\":{\"bar\":[{\"error_x\":{\"color\":\"#2a3f5f\"},\"error_y\":{\"color\":\"#2a3f5f\"},\"marker\":{\"line\":{\"color\":\"#E5ECF6\",\"width\":0.5},\"pattern\":{\"fillmode\":\"overlay\",\"size\":10,\"solidity\":0.2}},\"type\":\"bar\"}],\"barpolar\":[{\"marker\":{\"line\":{\"color\":\"#E5ECF6\",\"width\":0.5},\"pattern\":{\"fillmode\":\"overlay\",\"size\":10,\"solidity\":0.2}},\"type\":\"barpolar\"}],\"carpet\":[{\"aaxis\":{\"endlinecolor\":\"#2a3f5f\",\"gridcolor\":\"white\",\"linecolor\":\"white\",\"minorgridcolor\":\"white\",\"startlinecolor\":\"#2a3f5f\"},\"baxis\":{\"endlinecolor\":\"#2a3f5f\",\"gridcolor\":\"white\",\"linecolor\":\"white\",\"minorgridcolor\":\"white\",\"startlinecolor\":\"#2a3f5f\"},\"type\":\"carpet\"}],\"choropleth\":[{\"colorbar\":{\"outlinewidth\":0,\"ticks\":\"\"},\"type\":\"choropleth\"}],\"contour\":[{\"colorbar\":{\"outlinewidth\":0,\"ticks\":\"\"},\"colorscale\":[[0.0,\"#0d0887\"],[0.1111111111111111,\"#46039f\"],[0.2222222222222222,\"#7201a8\"],[0.3333333333333333,\"#9c179e\"],[0.4444444444444444,\"#bd3786\"],[0.5555555555555556,\"#d8576b\"],[0.6666666666666666,\"#ed7953\"],[0.7777777777777778,\"#fb9f3a\"],[0.8888888888888888,\"#fdca26\"],[1.0,\"#f0f921\"]],\"type\":\"contour\"}],\"contourcarpet\":[{\"colorbar\":{\"outlinewidth\":0,\"ticks\":\"\"},\"type\":\"contourcarpet\"}],\"heatmap\":[{\"colorbar\":{\"outlinewidth\":0,\"ticks\":\"\"},\"colorscale\":[[0.0,\"#0d0887\"],[0.1111111111111111,\"#46039f\"],[0.2222222222222222,\"#7201a8\"],[0.3333333333333333,\"#9c179e\"],[0.4444444444444444,\"#bd3786\"],[0.5555555555555556,\"#d8576b\"],[0.6666666666666666,\"#ed7953\"],[0.7777777777777778,\"#fb9f3a\"],[0.8888888888888888,\"#fdca26\"],[1.0,\"#f0f921\"]],\"type\":\"heatmap\"}],\"heatmapgl\":[{\"colorbar\":{\"outlinewidth\":0,\"ticks\":\"\"},\"colorscale\":[[0.0,\"#0d0887\"],[0.1111111111111111,\"#46039f\"],[0.2222222222222222,\"#7201a8\"],[0.3333333333333333,\"#9c179e\"],[0.4444444444444444,\"#bd3786\"],[0.5555555555555556,\"#d8576b\"],[0.6666666666666666,\"#ed7953\"],[0.7777777777777778,\"#fb9f3a\"],[0.8888888888888888,\"#fdca26\"],[1.0,\"#f0f921\"]],\"type\":\"heatmapgl\"}],\"histogram\":[{\"marker\":{\"pattern\":{\"fillmode\":\"overlay\",\"size\":10,\"solidity\":0.2}},\"type\":\"histogram\"}],\"histogram2d\":[{\"colorbar\":{\"outlinewidth\":0,\"ticks\":\"\"},\"colorscale\":[[0.0,\"#0d0887\"],[0.1111111111111111,\"#46039f\"],[0.2222222222222222,\"#7201a8\"],[0.3333333333333333,\"#9c179e\"],[0.4444444444444444,\"#bd3786\"],[0.5555555555555556,\"#d8576b\"],[0.6666666666666666,\"#ed7953\"],[0.7777777777777778,\"#fb9f3a\"],[0.8888888888888888,\"#fdca26\"],[1.0,\"#f0f921\"]],\"type\":\"histogram2d\"}],\"histogram2dcontour\":[{\"colorbar\":{\"outlinewidth\":0,\"ticks\":\"\"},\"colorscale\":[[0.0,\"#0d0887\"],[0.1111111111111111,\"#46039f\"],[0.2222222222222222,\"#7201a8\"],[0.3333333333333333,\"#9c179e\"],[0.4444444444444444,\"#bd3786\"],[0.5555555555555556,\"#d8576b\"],[0.6666666666666666,\"#ed7953\"],[0.7777777777777778,\"#fb9f3a\"],[0.8888888888888888,\"#fdca26\"],[1.0,\"#f0f921\"]],\"type\":\"histogram2dcontour\"}],\"mesh3d\":[{\"colorbar\":{\"outlinewidth\":0,\"ticks\":\"\"},\"type\":\"mesh3d\"}],\"parcoords\":[{\"line\":{\"colorbar\":{\"outlinewidth\":0,\"ticks\":\"\"}},\"type\":\"parcoords\"}],\"pie\":[{\"automargin\":true,\"type\":\"pie\"}],\"scatter\":[{\"marker\":{\"colorbar\":{\"outlinewidth\":0,\"ticks\":\"\"}},\"type\":\"scatter\"}],\"scatter3d\":[{\"line\":{\"colorbar\":{\"outlinewidth\":0,\"ticks\":\"\"}},\"marker\":{\"colorbar\":{\"outlinewidth\":0,\"ticks\":\"\"}},\"type\":\"scatter3d\"}],\"scattercarpet\":[{\"marker\":{\"colorbar\":{\"outlinewidth\":0,\"ticks\":\"\"}},\"type\":\"scattercarpet\"}],\"scattergeo\":[{\"marker\":{\"colorbar\":{\"outlinewidth\":0,\"ticks\":\"\"}},\"type\":\"scattergeo\"}],\"scattergl\":[{\"marker\":{\"colorbar\":{\"outlinewidth\":0,\"ticks\":\"\"}},\"type\":\"scattergl\"}],\"scattermapbox\":[{\"marker\":{\"colorbar\":{\"outlinewidth\":0,\"ticks\":\"\"}},\"type\":\"scattermapbox\"}],\"scatterpolar\":[{\"marker\":{\"colorbar\":{\"outlinewidth\":0,\"ticks\":\"\"}},\"type\":\"scatterpolar\"}],\"scatterpolargl\":[{\"marker\":{\"colorbar\":{\"outlinewidth\":0,\"ticks\":\"\"}},\"type\":\"scatterpolargl\"}],\"scatterternary\":[{\"marker\":{\"colorbar\":{\"outlinewidth\":0,\"ticks\":\"\"}},\"type\":\"scatterternary\"}],\"surface\":[{\"colorbar\":{\"outlinewidth\":0,\"ticks\":\"\"},\"colorscale\":[[0.0,\"#0d0887\"],[0.1111111111111111,\"#46039f\"],[0.2222222222222222,\"#7201a8\"],[0.3333333333333333,\"#9c179e\"],[0.4444444444444444,\"#bd3786\"],[0.5555555555555556,\"#d8576b\"],[0.6666666666666666,\"#ed7953\"],[0.7777777777777778,\"#fb9f3a\"],[0.8888888888888888,\"#fdca26\"],[1.0,\"#f0f921\"]],\"type\":\"surface\"}],\"table\":[{\"cells\":{\"fill\":{\"color\":\"#EBF0F8\"},\"line\":{\"color\":\"white\"}},\"header\":{\"fill\":{\"color\":\"#C8D4E3\"},\"line\":{\"color\":\"white\"}},\"type\":\"table\"}]},\"layout\":{\"annotationdefaults\":{\"arrowcolor\":\"#2a3f5f\",\"arrowhead\":0,\"arrowwidth\":1},\"autotypenumbers\":\"strict\",\"coloraxis\":{\"colorbar\":{\"outlinewidth\":0,\"ticks\":\"\"}},\"colorscale\":{\"diverging\":[[0,\"#8e0152\"],[0.1,\"#c51b7d\"],[0.2,\"#de77ae\"],[0.3,\"#f1b6da\"],[0.4,\"#fde0ef\"],[0.5,\"#f7f7f7\"],[0.6,\"#e6f5d0\"],[0.7,\"#b8e186\"],[0.8,\"#7fbc41\"],[0.9,\"#4d9221\"],[1,\"#276419\"]],\"sequential\":[[0.0,\"#0d0887\"],[0.1111111111111111,\"#46039f\"],[0.2222222222222222,\"#7201a8\"],[0.3333333333333333,\"#9c179e\"],[0.4444444444444444,\"#bd3786\"],[0.5555555555555556,\"#d8576b\"],[0.6666666666666666,\"#ed7953\"],[0.7777777777777778,\"#fb9f3a\"],[0.8888888888888888,\"#fdca26\"],[1.0,\"#f0f921\"]],\"sequentialminus\":[[0.0,\"#0d0887\"],[0.1111111111111111,\"#46039f\"],[0.2222222222222222,\"#7201a8\"],[0.3333333333333333,\"#9c179e\"],[0.4444444444444444,\"#bd3786\"],[0.5555555555555556,\"#d8576b\"],[0.6666666666666666,\"#ed7953\"],[0.7777777777777778,\"#fb9f3a\"],[0.8888888888888888,\"#fdca26\"],[1.0,\"#f0f921\"]]},\"colorway\":[\"#636efa\",\"#EF553B\",\"#00cc96\",\"#ab63fa\",\"#FFA15A\",\"#19d3f3\",\"#FF6692\",\"#B6E880\",\"#FF97FF\",\"#FECB52\"],\"font\":{\"color\":\"#2a3f5f\"},\"geo\":{\"bgcolor\":\"white\",\"lakecolor\":\"white\",\"landcolor\":\"#E5ECF6\",\"showlakes\":true,\"showland\":true,\"subunitcolor\":\"white\"},\"hoverlabel\":{\"align\":\"left\"},\"hovermode\":\"closest\",\"mapbox\":{\"style\":\"light\"},\"paper_bgcolor\":\"white\",\"plot_bgcolor\":\"#E5ECF6\",\"polar\":{\"angularaxis\":{\"gridcolor\":\"white\",\"linecolor\":\"white\",\"ticks\":\"\"},\"bgcolor\":\"#E5ECF6\",\"radialaxis\":{\"gridcolor\":\"white\",\"linecolor\":\"white\",\"ticks\":\"\"}},\"scene\":{\"xaxis\":{\"backgroundcolor\":\"#E5ECF6\",\"gridcolor\":\"white\",\"gridwidth\":2,\"linecolor\":\"white\",\"showbackground\":true,\"ticks\":\"\",\"zerolinecolor\":\"white\"},\"yaxis\":{\"backgroundcolor\":\"#E5ECF6\",\"gridcolor\":\"white\",\"gridwidth\":2,\"linecolor\":\"white\",\"showbackground\":true,\"ticks\":\"\",\"zerolinecolor\":\"white\"},\"zaxis\":{\"backgroundcolor\":\"#E5ECF6\",\"gridcolor\":\"white\",\"gridwidth\":2,\"linecolor\":\"white\",\"showbackground\":true,\"ticks\":\"\",\"zerolinecolor\":\"white\"}},\"shapedefaults\":{\"line\":{\"color\":\"#2a3f5f\"}},\"ternary\":{\"aaxis\":{\"gridcolor\":\"white\",\"linecolor\":\"white\",\"ticks\":\"\"},\"baxis\":{\"gridcolor\":\"white\",\"linecolor\":\"white\",\"ticks\":\"\"},\"bgcolor\":\"#E5ECF6\",\"caxis\":{\"gridcolor\":\"white\",\"linecolor\":\"white\",\"ticks\":\"\"}},\"title\":{\"x\":0.05},\"xaxis\":{\"automargin\":true,\"gridcolor\":\"white\",\"linecolor\":\"white\",\"ticks\":\"\",\"title\":{\"standoff\":15},\"zerolinecolor\":\"white\",\"zerolinewidth\":2},\"yaxis\":{\"automargin\":true,\"gridcolor\":\"white\",\"linecolor\":\"white\",\"ticks\":\"\",\"title\":{\"standoff\":15},\"zerolinecolor\":\"white\",\"zerolinewidth\":2}}},\"title\":{\"text\":\"Test MSE with mean over seeds\"},\"xaxis\":{\"title\":{\"text\":\"Fraction of train data used\"}},\"yaxis\":{\"title\":{\"text\":\"MSE\"}}},                        {\"responsive\": true}                    ).then(function(){\n",
       "                            \n",
       "var gd = document.getElementById('e7b77585-347f-499d-bfe7-e99658c5f971');\n",
       "var x = new MutationObserver(function (mutations, observer) {{\n",
       "        var display = window.getComputedStyle(gd).display;\n",
       "        if (!display || display === 'none') {{\n",
       "            console.log([gd, 'removed!']);\n",
       "            Plotly.purge(gd);\n",
       "            observer.disconnect();\n",
       "        }}\n",
       "}});\n",
       "\n",
       "// Listen for the removal of the full notebook cells\n",
       "var notebookContainer = gd.closest('#notebook-container');\n",
       "if (notebookContainer) {{\n",
       "    x.observe(notebookContainer, {childList: true});\n",
       "}}\n",
       "\n",
       "// Listen for the clearing of the current output cell\n",
       "var outputEl = gd.closest('.output');\n",
       "if (outputEl) {{\n",
       "    x.observe(outputEl, {childList: true});\n",
       "}}\n",
       "\n",
       "                        })                };                });            </script>        </div>"
      ]
     },
     "metadata": {},
     "output_type": "display_data"
    }
   ],
   "source": [
    "fig = go.Figure()\n",
    "data_select = data_df[(data_df['config_sampling_mode'] == 'nlargest')].groupby(\n",
    "    ['training_fraction', \"updated_model.fraction_of_train\"]).agg('mean').reset_index()\n",
    "for training_fraction in data_select['training_fraction'].unique():\n",
    "    subsample = data_select[data_select['training_fraction'] == training_fraction]\n",
    "    fig.add_trace(go.Scatter(x=subsample['updated_model.fraction_of_train'], \n",
    "                             y=subsample['updated_model.test_error'], mode='lines',\n",
    "                             name=training_fraction))\n",
    "baseline_select = baseline_df.groupby(['config.training_fraction']).agg('mean').reset_index()\n",
    "fig.add_trace(go.Scatter(x=baseline_select['config.training_fraction'], \n",
    "                         y=baseline_select['run.result.baseline.test_error.value'],\n",
    "                        mode='lines', name='baseline'))\n",
    "fig.update_layout(title='Test MSE with mean over seeds', xaxis_title='Fraction of train data used', \n",
    "                  yaxis_title='MSE', legend_title='training fraction')\n",
    "\n",
    "\n",
    "fig.show()"
   ]
  },
  {
   "cell_type": "code",
   "execution_count": 127,
   "id": "e9bba839",
   "metadata": {},
   "outputs": [
    {
     "data": {
      "application/vnd.plotly.v1+json": {
       "config": {
        "plotlyServerURL": "https://plot.ly"
       },
       "data": [
        {
         "mode": "lines",
         "name": "0.1",
         "type": "scatter",
         "x": [
          0.19996098322278577,
          0.29994147483417866,
          0.39992196644557154,
          0.49990245805696454,
          0.5998829496683573,
          0.6998634412797503,
          0.7998439328911432,
          0.8998244245025361,
          0.999804916113929,
          1
         ],
         "y": [
          1173028402.141981,
          1001643291.7817248,
          1001643291.7817248,
          1001643291.7817248,
          1107393973.0933452,
          1097100510.8913403,
          1095773771.9882314,
          1094657289.006727,
          1096876604.6242003,
          1096935942.725702
         ]
        },
        {
         "mode": "lines",
         "name": "0.25",
         "type": "scatter",
         "x": [
          0.3499804916113929,
          0.44996098322278577,
          0.5499414748341787,
          0.6499219664455715
         ],
         "y": [
          1021349981.0949609,
          987796942.3734394,
          987796942.3734394,
          987796942.3734394
         ]
        },
        {
         "mode": "lines",
         "name": "0.5",
         "type": "scatter",
         "x": [
          0.5999804916113929,
          0.6999609832227858,
          0.7999414748341787,
          0.8999219664455715
         ],
         "y": [
          975587957.5589541,
          975587957.5589541,
          975587957.5589541,
          975587957.5589541
         ]
        },
        {
         "mode": "lines",
         "name": "baseline",
         "type": "scatter",
         "x": [
          0.10000000149011612,
          0.25,
          0.5,
          0.75,
          1
         ],
         "y": [
          1159328640,
          1059079680,
          993591808,
          1009308672,
          926071680
         ]
        }
       ],
       "layout": {
        "legend": {
         "title": {
          "text": "training fraction"
         }
        },
        "template": {
         "data": {
          "bar": [
           {
            "error_x": {
             "color": "#2a3f5f"
            },
            "error_y": {
             "color": "#2a3f5f"
            },
            "marker": {
             "line": {
              "color": "#E5ECF6",
              "width": 0.5
             },
             "pattern": {
              "fillmode": "overlay",
              "size": 10,
              "solidity": 0.2
             }
            },
            "type": "bar"
           }
          ],
          "barpolar": [
           {
            "marker": {
             "line": {
              "color": "#E5ECF6",
              "width": 0.5
             },
             "pattern": {
              "fillmode": "overlay",
              "size": 10,
              "solidity": 0.2
             }
            },
            "type": "barpolar"
           }
          ],
          "carpet": [
           {
            "aaxis": {
             "endlinecolor": "#2a3f5f",
             "gridcolor": "white",
             "linecolor": "white",
             "minorgridcolor": "white",
             "startlinecolor": "#2a3f5f"
            },
            "baxis": {
             "endlinecolor": "#2a3f5f",
             "gridcolor": "white",
             "linecolor": "white",
             "minorgridcolor": "white",
             "startlinecolor": "#2a3f5f"
            },
            "type": "carpet"
           }
          ],
          "choropleth": [
           {
            "colorbar": {
             "outlinewidth": 0,
             "ticks": ""
            },
            "type": "choropleth"
           }
          ],
          "contour": [
           {
            "colorbar": {
             "outlinewidth": 0,
             "ticks": ""
            },
            "colorscale": [
             [
              0,
              "#0d0887"
             ],
             [
              0.1111111111111111,
              "#46039f"
             ],
             [
              0.2222222222222222,
              "#7201a8"
             ],
             [
              0.3333333333333333,
              "#9c179e"
             ],
             [
              0.4444444444444444,
              "#bd3786"
             ],
             [
              0.5555555555555556,
              "#d8576b"
             ],
             [
              0.6666666666666666,
              "#ed7953"
             ],
             [
              0.7777777777777778,
              "#fb9f3a"
             ],
             [
              0.8888888888888888,
              "#fdca26"
             ],
             [
              1,
              "#f0f921"
             ]
            ],
            "type": "contour"
           }
          ],
          "contourcarpet": [
           {
            "colorbar": {
             "outlinewidth": 0,
             "ticks": ""
            },
            "type": "contourcarpet"
           }
          ],
          "heatmap": [
           {
            "colorbar": {
             "outlinewidth": 0,
             "ticks": ""
            },
            "colorscale": [
             [
              0,
              "#0d0887"
             ],
             [
              0.1111111111111111,
              "#46039f"
             ],
             [
              0.2222222222222222,
              "#7201a8"
             ],
             [
              0.3333333333333333,
              "#9c179e"
             ],
             [
              0.4444444444444444,
              "#bd3786"
             ],
             [
              0.5555555555555556,
              "#d8576b"
             ],
             [
              0.6666666666666666,
              "#ed7953"
             ],
             [
              0.7777777777777778,
              "#fb9f3a"
             ],
             [
              0.8888888888888888,
              "#fdca26"
             ],
             [
              1,
              "#f0f921"
             ]
            ],
            "type": "heatmap"
           }
          ],
          "heatmapgl": [
           {
            "colorbar": {
             "outlinewidth": 0,
             "ticks": ""
            },
            "colorscale": [
             [
              0,
              "#0d0887"
             ],
             [
              0.1111111111111111,
              "#46039f"
             ],
             [
              0.2222222222222222,
              "#7201a8"
             ],
             [
              0.3333333333333333,
              "#9c179e"
             ],
             [
              0.4444444444444444,
              "#bd3786"
             ],
             [
              0.5555555555555556,
              "#d8576b"
             ],
             [
              0.6666666666666666,
              "#ed7953"
             ],
             [
              0.7777777777777778,
              "#fb9f3a"
             ],
             [
              0.8888888888888888,
              "#fdca26"
             ],
             [
              1,
              "#f0f921"
             ]
            ],
            "type": "heatmapgl"
           }
          ],
          "histogram": [
           {
            "marker": {
             "pattern": {
              "fillmode": "overlay",
              "size": 10,
              "solidity": 0.2
             }
            },
            "type": "histogram"
           }
          ],
          "histogram2d": [
           {
            "colorbar": {
             "outlinewidth": 0,
             "ticks": ""
            },
            "colorscale": [
             [
              0,
              "#0d0887"
             ],
             [
              0.1111111111111111,
              "#46039f"
             ],
             [
              0.2222222222222222,
              "#7201a8"
             ],
             [
              0.3333333333333333,
              "#9c179e"
             ],
             [
              0.4444444444444444,
              "#bd3786"
             ],
             [
              0.5555555555555556,
              "#d8576b"
             ],
             [
              0.6666666666666666,
              "#ed7953"
             ],
             [
              0.7777777777777778,
              "#fb9f3a"
             ],
             [
              0.8888888888888888,
              "#fdca26"
             ],
             [
              1,
              "#f0f921"
             ]
            ],
            "type": "histogram2d"
           }
          ],
          "histogram2dcontour": [
           {
            "colorbar": {
             "outlinewidth": 0,
             "ticks": ""
            },
            "colorscale": [
             [
              0,
              "#0d0887"
             ],
             [
              0.1111111111111111,
              "#46039f"
             ],
             [
              0.2222222222222222,
              "#7201a8"
             ],
             [
              0.3333333333333333,
              "#9c179e"
             ],
             [
              0.4444444444444444,
              "#bd3786"
             ],
             [
              0.5555555555555556,
              "#d8576b"
             ],
             [
              0.6666666666666666,
              "#ed7953"
             ],
             [
              0.7777777777777778,
              "#fb9f3a"
             ],
             [
              0.8888888888888888,
              "#fdca26"
             ],
             [
              1,
              "#f0f921"
             ]
            ],
            "type": "histogram2dcontour"
           }
          ],
          "mesh3d": [
           {
            "colorbar": {
             "outlinewidth": 0,
             "ticks": ""
            },
            "type": "mesh3d"
           }
          ],
          "parcoords": [
           {
            "line": {
             "colorbar": {
              "outlinewidth": 0,
              "ticks": ""
             }
            },
            "type": "parcoords"
           }
          ],
          "pie": [
           {
            "automargin": true,
            "type": "pie"
           }
          ],
          "scatter": [
           {
            "marker": {
             "colorbar": {
              "outlinewidth": 0,
              "ticks": ""
             }
            },
            "type": "scatter"
           }
          ],
          "scatter3d": [
           {
            "line": {
             "colorbar": {
              "outlinewidth": 0,
              "ticks": ""
             }
            },
            "marker": {
             "colorbar": {
              "outlinewidth": 0,
              "ticks": ""
             }
            },
            "type": "scatter3d"
           }
          ],
          "scattercarpet": [
           {
            "marker": {
             "colorbar": {
              "outlinewidth": 0,
              "ticks": ""
             }
            },
            "type": "scattercarpet"
           }
          ],
          "scattergeo": [
           {
            "marker": {
             "colorbar": {
              "outlinewidth": 0,
              "ticks": ""
             }
            },
            "type": "scattergeo"
           }
          ],
          "scattergl": [
           {
            "marker": {
             "colorbar": {
              "outlinewidth": 0,
              "ticks": ""
             }
            },
            "type": "scattergl"
           }
          ],
          "scattermapbox": [
           {
            "marker": {
             "colorbar": {
              "outlinewidth": 0,
              "ticks": ""
             }
            },
            "type": "scattermapbox"
           }
          ],
          "scatterpolar": [
           {
            "marker": {
             "colorbar": {
              "outlinewidth": 0,
              "ticks": ""
             }
            },
            "type": "scatterpolar"
           }
          ],
          "scatterpolargl": [
           {
            "marker": {
             "colorbar": {
              "outlinewidth": 0,
              "ticks": ""
             }
            },
            "type": "scatterpolargl"
           }
          ],
          "scatterternary": [
           {
            "marker": {
             "colorbar": {
              "outlinewidth": 0,
              "ticks": ""
             }
            },
            "type": "scatterternary"
           }
          ],
          "surface": [
           {
            "colorbar": {
             "outlinewidth": 0,
             "ticks": ""
            },
            "colorscale": [
             [
              0,
              "#0d0887"
             ],
             [
              0.1111111111111111,
              "#46039f"
             ],
             [
              0.2222222222222222,
              "#7201a8"
             ],
             [
              0.3333333333333333,
              "#9c179e"
             ],
             [
              0.4444444444444444,
              "#bd3786"
             ],
             [
              0.5555555555555556,
              "#d8576b"
             ],
             [
              0.6666666666666666,
              "#ed7953"
             ],
             [
              0.7777777777777778,
              "#fb9f3a"
             ],
             [
              0.8888888888888888,
              "#fdca26"
             ],
             [
              1,
              "#f0f921"
             ]
            ],
            "type": "surface"
           }
          ],
          "table": [
           {
            "cells": {
             "fill": {
              "color": "#EBF0F8"
             },
             "line": {
              "color": "white"
             }
            },
            "header": {
             "fill": {
              "color": "#C8D4E3"
             },
             "line": {
              "color": "white"
             }
            },
            "type": "table"
           }
          ]
         },
         "layout": {
          "annotationdefaults": {
           "arrowcolor": "#2a3f5f",
           "arrowhead": 0,
           "arrowwidth": 1
          },
          "autotypenumbers": "strict",
          "coloraxis": {
           "colorbar": {
            "outlinewidth": 0,
            "ticks": ""
           }
          },
          "colorscale": {
           "diverging": [
            [
             0,
             "#8e0152"
            ],
            [
             0.1,
             "#c51b7d"
            ],
            [
             0.2,
             "#de77ae"
            ],
            [
             0.3,
             "#f1b6da"
            ],
            [
             0.4,
             "#fde0ef"
            ],
            [
             0.5,
             "#f7f7f7"
            ],
            [
             0.6,
             "#e6f5d0"
            ],
            [
             0.7,
             "#b8e186"
            ],
            [
             0.8,
             "#7fbc41"
            ],
            [
             0.9,
             "#4d9221"
            ],
            [
             1,
             "#276419"
            ]
           ],
           "sequential": [
            [
             0,
             "#0d0887"
            ],
            [
             0.1111111111111111,
             "#46039f"
            ],
            [
             0.2222222222222222,
             "#7201a8"
            ],
            [
             0.3333333333333333,
             "#9c179e"
            ],
            [
             0.4444444444444444,
             "#bd3786"
            ],
            [
             0.5555555555555556,
             "#d8576b"
            ],
            [
             0.6666666666666666,
             "#ed7953"
            ],
            [
             0.7777777777777778,
             "#fb9f3a"
            ],
            [
             0.8888888888888888,
             "#fdca26"
            ],
            [
             1,
             "#f0f921"
            ]
           ],
           "sequentialminus": [
            [
             0,
             "#0d0887"
            ],
            [
             0.1111111111111111,
             "#46039f"
            ],
            [
             0.2222222222222222,
             "#7201a8"
            ],
            [
             0.3333333333333333,
             "#9c179e"
            ],
            [
             0.4444444444444444,
             "#bd3786"
            ],
            [
             0.5555555555555556,
             "#d8576b"
            ],
            [
             0.6666666666666666,
             "#ed7953"
            ],
            [
             0.7777777777777778,
             "#fb9f3a"
            ],
            [
             0.8888888888888888,
             "#fdca26"
            ],
            [
             1,
             "#f0f921"
            ]
           ]
          },
          "colorway": [
           "#636efa",
           "#EF553B",
           "#00cc96",
           "#ab63fa",
           "#FFA15A",
           "#19d3f3",
           "#FF6692",
           "#B6E880",
           "#FF97FF",
           "#FECB52"
          ],
          "font": {
           "color": "#2a3f5f"
          },
          "geo": {
           "bgcolor": "white",
           "lakecolor": "white",
           "landcolor": "#E5ECF6",
           "showlakes": true,
           "showland": true,
           "subunitcolor": "white"
          },
          "hoverlabel": {
           "align": "left"
          },
          "hovermode": "closest",
          "mapbox": {
           "style": "light"
          },
          "paper_bgcolor": "white",
          "plot_bgcolor": "#E5ECF6",
          "polar": {
           "angularaxis": {
            "gridcolor": "white",
            "linecolor": "white",
            "ticks": ""
           },
           "bgcolor": "#E5ECF6",
           "radialaxis": {
            "gridcolor": "white",
            "linecolor": "white",
            "ticks": ""
           }
          },
          "scene": {
           "xaxis": {
            "backgroundcolor": "#E5ECF6",
            "gridcolor": "white",
            "gridwidth": 2,
            "linecolor": "white",
            "showbackground": true,
            "ticks": "",
            "zerolinecolor": "white"
           },
           "yaxis": {
            "backgroundcolor": "#E5ECF6",
            "gridcolor": "white",
            "gridwidth": 2,
            "linecolor": "white",
            "showbackground": true,
            "ticks": "",
            "zerolinecolor": "white"
           },
           "zaxis": {
            "backgroundcolor": "#E5ECF6",
            "gridcolor": "white",
            "gridwidth": 2,
            "linecolor": "white",
            "showbackground": true,
            "ticks": "",
            "zerolinecolor": "white"
           }
          },
          "shapedefaults": {
           "line": {
            "color": "#2a3f5f"
           }
          },
          "ternary": {
           "aaxis": {
            "gridcolor": "white",
            "linecolor": "white",
            "ticks": ""
           },
           "baxis": {
            "gridcolor": "white",
            "linecolor": "white",
            "ticks": ""
           },
           "bgcolor": "#E5ECF6",
           "caxis": {
            "gridcolor": "white",
            "linecolor": "white",
            "ticks": ""
           }
          },
          "title": {
           "x": 0.05
          },
          "xaxis": {
           "automargin": true,
           "gridcolor": "white",
           "linecolor": "white",
           "ticks": "",
           "title": {
            "standoff": 15
           },
           "zerolinecolor": "white",
           "zerolinewidth": 2
          },
          "yaxis": {
           "automargin": true,
           "gridcolor": "white",
           "linecolor": "white",
           "ticks": "",
           "title": {
            "standoff": 15
           },
           "zerolinecolor": "white",
           "zerolinewidth": 2
          }
         }
        },
        "title": {
         "text": "Test MSE with median over seeds"
        },
        "xaxis": {
         "title": {
          "text": "Fraction of train data used"
         }
        },
        "yaxis": {
         "title": {
          "text": "MSE"
         }
        }
       }
      },
      "text/html": [
       "<div>                            <div id=\"2e37d915-f488-413a-8235-368bc39658be\" class=\"plotly-graph-div\" style=\"height:525px; width:100%;\"></div>            <script type=\"text/javascript\">                require([\"plotly\"], function(Plotly) {                    window.PLOTLYENV=window.PLOTLYENV || {};                                    if (document.getElementById(\"2e37d915-f488-413a-8235-368bc39658be\")) {                    Plotly.newPlot(                        \"2e37d915-f488-413a-8235-368bc39658be\",                        [{\"mode\":\"lines\",\"name\":\"0.1\",\"type\":\"scatter\",\"x\":[0.19996098322278577,0.29994147483417866,0.39992196644557154,0.49990245805696454,0.5998829496683573,0.6998634412797503,0.7998439328911432,0.8998244245025361,0.999804916113929,1.0],\"y\":[1173028402.141981,1001643291.7817248,1001643291.7817248,1001643291.7817248,1107393973.0933452,1097100510.8913403,1095773771.9882314,1094657289.006727,1096876604.6242003,1096935942.725702]},{\"mode\":\"lines\",\"name\":\"0.25\",\"type\":\"scatter\",\"x\":[0.3499804916113929,0.44996098322278577,0.5499414748341787,0.6499219664455715],\"y\":[1021349981.0949609,987796942.3734394,987796942.3734394,987796942.3734394]},{\"mode\":\"lines\",\"name\":\"0.5\",\"type\":\"scatter\",\"x\":[0.5999804916113929,0.6999609832227858,0.7999414748341787,0.8999219664455715],\"y\":[975587957.5589541,975587957.5589541,975587957.5589541,975587957.5589541]},{\"mode\":\"lines\",\"name\":\"baseline\",\"type\":\"scatter\",\"x\":[0.10000000149011612,0.25,0.5,0.75,1.0],\"y\":[1159328640.0,1059079680.0,993591808.0,1009308672.0,926071680.0]}],                        {\"legend\":{\"title\":{\"text\":\"training fraction\"}},\"template\":{\"data\":{\"bar\":[{\"error_x\":{\"color\":\"#2a3f5f\"},\"error_y\":{\"color\":\"#2a3f5f\"},\"marker\":{\"line\":{\"color\":\"#E5ECF6\",\"width\":0.5},\"pattern\":{\"fillmode\":\"overlay\",\"size\":10,\"solidity\":0.2}},\"type\":\"bar\"}],\"barpolar\":[{\"marker\":{\"line\":{\"color\":\"#E5ECF6\",\"width\":0.5},\"pattern\":{\"fillmode\":\"overlay\",\"size\":10,\"solidity\":0.2}},\"type\":\"barpolar\"}],\"carpet\":[{\"aaxis\":{\"endlinecolor\":\"#2a3f5f\",\"gridcolor\":\"white\",\"linecolor\":\"white\",\"minorgridcolor\":\"white\",\"startlinecolor\":\"#2a3f5f\"},\"baxis\":{\"endlinecolor\":\"#2a3f5f\",\"gridcolor\":\"white\",\"linecolor\":\"white\",\"minorgridcolor\":\"white\",\"startlinecolor\":\"#2a3f5f\"},\"type\":\"carpet\"}],\"choropleth\":[{\"colorbar\":{\"outlinewidth\":0,\"ticks\":\"\"},\"type\":\"choropleth\"}],\"contour\":[{\"colorbar\":{\"outlinewidth\":0,\"ticks\":\"\"},\"colorscale\":[[0.0,\"#0d0887\"],[0.1111111111111111,\"#46039f\"],[0.2222222222222222,\"#7201a8\"],[0.3333333333333333,\"#9c179e\"],[0.4444444444444444,\"#bd3786\"],[0.5555555555555556,\"#d8576b\"],[0.6666666666666666,\"#ed7953\"],[0.7777777777777778,\"#fb9f3a\"],[0.8888888888888888,\"#fdca26\"],[1.0,\"#f0f921\"]],\"type\":\"contour\"}],\"contourcarpet\":[{\"colorbar\":{\"outlinewidth\":0,\"ticks\":\"\"},\"type\":\"contourcarpet\"}],\"heatmap\":[{\"colorbar\":{\"outlinewidth\":0,\"ticks\":\"\"},\"colorscale\":[[0.0,\"#0d0887\"],[0.1111111111111111,\"#46039f\"],[0.2222222222222222,\"#7201a8\"],[0.3333333333333333,\"#9c179e\"],[0.4444444444444444,\"#bd3786\"],[0.5555555555555556,\"#d8576b\"],[0.6666666666666666,\"#ed7953\"],[0.7777777777777778,\"#fb9f3a\"],[0.8888888888888888,\"#fdca26\"],[1.0,\"#f0f921\"]],\"type\":\"heatmap\"}],\"heatmapgl\":[{\"colorbar\":{\"outlinewidth\":0,\"ticks\":\"\"},\"colorscale\":[[0.0,\"#0d0887\"],[0.1111111111111111,\"#46039f\"],[0.2222222222222222,\"#7201a8\"],[0.3333333333333333,\"#9c179e\"],[0.4444444444444444,\"#bd3786\"],[0.5555555555555556,\"#d8576b\"],[0.6666666666666666,\"#ed7953\"],[0.7777777777777778,\"#fb9f3a\"],[0.8888888888888888,\"#fdca26\"],[1.0,\"#f0f921\"]],\"type\":\"heatmapgl\"}],\"histogram\":[{\"marker\":{\"pattern\":{\"fillmode\":\"overlay\",\"size\":10,\"solidity\":0.2}},\"type\":\"histogram\"}],\"histogram2d\":[{\"colorbar\":{\"outlinewidth\":0,\"ticks\":\"\"},\"colorscale\":[[0.0,\"#0d0887\"],[0.1111111111111111,\"#46039f\"],[0.2222222222222222,\"#7201a8\"],[0.3333333333333333,\"#9c179e\"],[0.4444444444444444,\"#bd3786\"],[0.5555555555555556,\"#d8576b\"],[0.6666666666666666,\"#ed7953\"],[0.7777777777777778,\"#fb9f3a\"],[0.8888888888888888,\"#fdca26\"],[1.0,\"#f0f921\"]],\"type\":\"histogram2d\"}],\"histogram2dcontour\":[{\"colorbar\":{\"outlinewidth\":0,\"ticks\":\"\"},\"colorscale\":[[0.0,\"#0d0887\"],[0.1111111111111111,\"#46039f\"],[0.2222222222222222,\"#7201a8\"],[0.3333333333333333,\"#9c179e\"],[0.4444444444444444,\"#bd3786\"],[0.5555555555555556,\"#d8576b\"],[0.6666666666666666,\"#ed7953\"],[0.7777777777777778,\"#fb9f3a\"],[0.8888888888888888,\"#fdca26\"],[1.0,\"#f0f921\"]],\"type\":\"histogram2dcontour\"}],\"mesh3d\":[{\"colorbar\":{\"outlinewidth\":0,\"ticks\":\"\"},\"type\":\"mesh3d\"}],\"parcoords\":[{\"line\":{\"colorbar\":{\"outlinewidth\":0,\"ticks\":\"\"}},\"type\":\"parcoords\"}],\"pie\":[{\"automargin\":true,\"type\":\"pie\"}],\"scatter\":[{\"marker\":{\"colorbar\":{\"outlinewidth\":0,\"ticks\":\"\"}},\"type\":\"scatter\"}],\"scatter3d\":[{\"line\":{\"colorbar\":{\"outlinewidth\":0,\"ticks\":\"\"}},\"marker\":{\"colorbar\":{\"outlinewidth\":0,\"ticks\":\"\"}},\"type\":\"scatter3d\"}],\"scattercarpet\":[{\"marker\":{\"colorbar\":{\"outlinewidth\":0,\"ticks\":\"\"}},\"type\":\"scattercarpet\"}],\"scattergeo\":[{\"marker\":{\"colorbar\":{\"outlinewidth\":0,\"ticks\":\"\"}},\"type\":\"scattergeo\"}],\"scattergl\":[{\"marker\":{\"colorbar\":{\"outlinewidth\":0,\"ticks\":\"\"}},\"type\":\"scattergl\"}],\"scattermapbox\":[{\"marker\":{\"colorbar\":{\"outlinewidth\":0,\"ticks\":\"\"}},\"type\":\"scattermapbox\"}],\"scatterpolar\":[{\"marker\":{\"colorbar\":{\"outlinewidth\":0,\"ticks\":\"\"}},\"type\":\"scatterpolar\"}],\"scatterpolargl\":[{\"marker\":{\"colorbar\":{\"outlinewidth\":0,\"ticks\":\"\"}},\"type\":\"scatterpolargl\"}],\"scatterternary\":[{\"marker\":{\"colorbar\":{\"outlinewidth\":0,\"ticks\":\"\"}},\"type\":\"scatterternary\"}],\"surface\":[{\"colorbar\":{\"outlinewidth\":0,\"ticks\":\"\"},\"colorscale\":[[0.0,\"#0d0887\"],[0.1111111111111111,\"#46039f\"],[0.2222222222222222,\"#7201a8\"],[0.3333333333333333,\"#9c179e\"],[0.4444444444444444,\"#bd3786\"],[0.5555555555555556,\"#d8576b\"],[0.6666666666666666,\"#ed7953\"],[0.7777777777777778,\"#fb9f3a\"],[0.8888888888888888,\"#fdca26\"],[1.0,\"#f0f921\"]],\"type\":\"surface\"}],\"table\":[{\"cells\":{\"fill\":{\"color\":\"#EBF0F8\"},\"line\":{\"color\":\"white\"}},\"header\":{\"fill\":{\"color\":\"#C8D4E3\"},\"line\":{\"color\":\"white\"}},\"type\":\"table\"}]},\"layout\":{\"annotationdefaults\":{\"arrowcolor\":\"#2a3f5f\",\"arrowhead\":0,\"arrowwidth\":1},\"autotypenumbers\":\"strict\",\"coloraxis\":{\"colorbar\":{\"outlinewidth\":0,\"ticks\":\"\"}},\"colorscale\":{\"diverging\":[[0,\"#8e0152\"],[0.1,\"#c51b7d\"],[0.2,\"#de77ae\"],[0.3,\"#f1b6da\"],[0.4,\"#fde0ef\"],[0.5,\"#f7f7f7\"],[0.6,\"#e6f5d0\"],[0.7,\"#b8e186\"],[0.8,\"#7fbc41\"],[0.9,\"#4d9221\"],[1,\"#276419\"]],\"sequential\":[[0.0,\"#0d0887\"],[0.1111111111111111,\"#46039f\"],[0.2222222222222222,\"#7201a8\"],[0.3333333333333333,\"#9c179e\"],[0.4444444444444444,\"#bd3786\"],[0.5555555555555556,\"#d8576b\"],[0.6666666666666666,\"#ed7953\"],[0.7777777777777778,\"#fb9f3a\"],[0.8888888888888888,\"#fdca26\"],[1.0,\"#f0f921\"]],\"sequentialminus\":[[0.0,\"#0d0887\"],[0.1111111111111111,\"#46039f\"],[0.2222222222222222,\"#7201a8\"],[0.3333333333333333,\"#9c179e\"],[0.4444444444444444,\"#bd3786\"],[0.5555555555555556,\"#d8576b\"],[0.6666666666666666,\"#ed7953\"],[0.7777777777777778,\"#fb9f3a\"],[0.8888888888888888,\"#fdca26\"],[1.0,\"#f0f921\"]]},\"colorway\":[\"#636efa\",\"#EF553B\",\"#00cc96\",\"#ab63fa\",\"#FFA15A\",\"#19d3f3\",\"#FF6692\",\"#B6E880\",\"#FF97FF\",\"#FECB52\"],\"font\":{\"color\":\"#2a3f5f\"},\"geo\":{\"bgcolor\":\"white\",\"lakecolor\":\"white\",\"landcolor\":\"#E5ECF6\",\"showlakes\":true,\"showland\":true,\"subunitcolor\":\"white\"},\"hoverlabel\":{\"align\":\"left\"},\"hovermode\":\"closest\",\"mapbox\":{\"style\":\"light\"},\"paper_bgcolor\":\"white\",\"plot_bgcolor\":\"#E5ECF6\",\"polar\":{\"angularaxis\":{\"gridcolor\":\"white\",\"linecolor\":\"white\",\"ticks\":\"\"},\"bgcolor\":\"#E5ECF6\",\"radialaxis\":{\"gridcolor\":\"white\",\"linecolor\":\"white\",\"ticks\":\"\"}},\"scene\":{\"xaxis\":{\"backgroundcolor\":\"#E5ECF6\",\"gridcolor\":\"white\",\"gridwidth\":2,\"linecolor\":\"white\",\"showbackground\":true,\"ticks\":\"\",\"zerolinecolor\":\"white\"},\"yaxis\":{\"backgroundcolor\":\"#E5ECF6\",\"gridcolor\":\"white\",\"gridwidth\":2,\"linecolor\":\"white\",\"showbackground\":true,\"ticks\":\"\",\"zerolinecolor\":\"white\"},\"zaxis\":{\"backgroundcolor\":\"#E5ECF6\",\"gridcolor\":\"white\",\"gridwidth\":2,\"linecolor\":\"white\",\"showbackground\":true,\"ticks\":\"\",\"zerolinecolor\":\"white\"}},\"shapedefaults\":{\"line\":{\"color\":\"#2a3f5f\"}},\"ternary\":{\"aaxis\":{\"gridcolor\":\"white\",\"linecolor\":\"white\",\"ticks\":\"\"},\"baxis\":{\"gridcolor\":\"white\",\"linecolor\":\"white\",\"ticks\":\"\"},\"bgcolor\":\"#E5ECF6\",\"caxis\":{\"gridcolor\":\"white\",\"linecolor\":\"white\",\"ticks\":\"\"}},\"title\":{\"x\":0.05},\"xaxis\":{\"automargin\":true,\"gridcolor\":\"white\",\"linecolor\":\"white\",\"ticks\":\"\",\"title\":{\"standoff\":15},\"zerolinecolor\":\"white\",\"zerolinewidth\":2},\"yaxis\":{\"automargin\":true,\"gridcolor\":\"white\",\"linecolor\":\"white\",\"ticks\":\"\",\"title\":{\"standoff\":15},\"zerolinecolor\":\"white\",\"zerolinewidth\":2}}},\"title\":{\"text\":\"Test MSE with median over seeds\"},\"xaxis\":{\"title\":{\"text\":\"Fraction of train data used\"}},\"yaxis\":{\"title\":{\"text\":\"MSE\"}}},                        {\"responsive\": true}                    ).then(function(){\n",
       "                            \n",
       "var gd = document.getElementById('2e37d915-f488-413a-8235-368bc39658be');\n",
       "var x = new MutationObserver(function (mutations, observer) {{\n",
       "        var display = window.getComputedStyle(gd).display;\n",
       "        if (!display || display === 'none') {{\n",
       "            console.log([gd, 'removed!']);\n",
       "            Plotly.purge(gd);\n",
       "            observer.disconnect();\n",
       "        }}\n",
       "}});\n",
       "\n",
       "// Listen for the removal of the full notebook cells\n",
       "var notebookContainer = gd.closest('#notebook-container');\n",
       "if (notebookContainer) {{\n",
       "    x.observe(notebookContainer, {childList: true});\n",
       "}}\n",
       "\n",
       "// Listen for the clearing of the current output cell\n",
       "var outputEl = gd.closest('.output');\n",
       "if (outputEl) {{\n",
       "    x.observe(outputEl, {childList: true});\n",
       "}}\n",
       "\n",
       "                        })                };                });            </script>        </div>"
      ]
     },
     "metadata": {},
     "output_type": "display_data"
    }
   ],
   "source": [
    "fig = go.Figure()\n",
    "data_select = data_df[(data_df['config_sampling_mode'] == 'nlargest')].groupby(\n",
    "    ['training_fraction', \"updated_model.fraction_of_train\"]).agg('median').reset_index()\n",
    "for training_fraction in data_select['training_fraction'].unique():\n",
    "    subsample = data_select[data_select['training_fraction'] == training_fraction]\n",
    "    fig.add_trace(go.Scatter(x=subsample['updated_model.fraction_of_train'], \n",
    "                             y=subsample['updated_model.test_error'], mode='lines',\n",
    "                             name=training_fraction))\n",
    "baseline_select = baseline_df.groupby(['config.training_fraction']).agg('median').reset_index()\n",
    "fig.add_trace(go.Scatter(x=baseline_select['config.training_fraction'], \n",
    "                         y=baseline_select['run.result.baseline.test_error.value'],\n",
    "                        mode='lines', name='baseline'))\n",
    "fig.update_layout(title='Test MSE with median over seeds', xaxis_title='Fraction of train data used', \n",
    "                  yaxis_title='MSE', legend_title='training fraction')\n",
    "\n",
    "\n",
    "fig.show()"
   ]
  },
  {
   "cell_type": "code",
   "execution_count": 99,
   "id": "953048b7",
   "metadata": {},
   "outputs": [],
   "source": [
    "data_select = data_df[(data_df['config_sampling_mode'] == 'nlargest')].groupby(['training_fraction', \"updated_model.fraction_of_train\"]).agg('mean').reset_index()\n"
   ]
  },
  {
   "cell_type": "code",
   "execution_count": 107,
   "id": "2ece2842",
   "metadata": {},
   "outputs": [
    {
     "data": {
      "text/html": [
       "<div>\n",
       "<style scoped>\n",
       "    .dataframe tbody tr th:only-of-type {\n",
       "        vertical-align: middle;\n",
       "    }\n",
       "\n",
       "    .dataframe tbody tr th {\n",
       "        vertical-align: top;\n",
       "    }\n",
       "\n",
       "    .dataframe thead th {\n",
       "        text-align: right;\n",
       "    }\n",
       "</style>\n",
       "<table border=\"1\" class=\"dataframe\">\n",
       "  <thead>\n",
       "    <tr style=\"text-align: right;\">\n",
       "      <th></th>\n",
       "      <th>training_fraction</th>\n",
       "      <th>updated_model.fraction_of_train</th>\n",
       "      <th>updated_model.hyperparameters.retrained_tree_eta</th>\n",
       "      <th>updated_model.test_error</th>\n",
       "      <th>updated_model.train_error</th>\n",
       "      <th>seed</th>\n",
       "      <th>step</th>\n",
       "    </tr>\n",
       "  </thead>\n",
       "  <tbody>\n",
       "    <tr>\n",
       "      <th>0</th>\n",
       "      <td>0.10</td>\n",
       "      <td>0.199961</td>\n",
       "      <td>0.335571</td>\n",
       "      <td>1.171535e+09</td>\n",
       "      <td>7.544295e+08</td>\n",
       "      <td>693328056.6</td>\n",
       "      <td>0.0</td>\n",
       "    </tr>\n",
       "    <tr>\n",
       "      <th>1</th>\n",
       "      <td>0.10</td>\n",
       "      <td>0.299941</td>\n",
       "      <td>0.383190</td>\n",
       "      <td>1.041381e+09</td>\n",
       "      <td>5.436852e+08</td>\n",
       "      <td>693328056.6</td>\n",
       "      <td>1.0</td>\n",
       "    </tr>\n",
       "    <tr>\n",
       "      <th>2</th>\n",
       "      <td>0.10</td>\n",
       "      <td>0.399922</td>\n",
       "      <td>0.232650</td>\n",
       "      <td>1.034137e+09</td>\n",
       "      <td>5.305118e+08</td>\n",
       "      <td>693328056.6</td>\n",
       "      <td>2.0</td>\n",
       "    </tr>\n",
       "    <tr>\n",
       "      <th>3</th>\n",
       "      <td>0.10</td>\n",
       "      <td>0.499902</td>\n",
       "      <td>0.285185</td>\n",
       "      <td>1.023154e+09</td>\n",
       "      <td>5.211548e+08</td>\n",
       "      <td>693328056.6</td>\n",
       "      <td>3.0</td>\n",
       "    </tr>\n",
       "    <tr>\n",
       "      <th>4</th>\n",
       "      <td>0.10</td>\n",
       "      <td>0.599883</td>\n",
       "      <td>0.158893</td>\n",
       "      <td>1.107394e+09</td>\n",
       "      <td>4.700727e+08</td>\n",
       "      <td>991068298.0</td>\n",
       "      <td>4.0</td>\n",
       "    </tr>\n",
       "    <tr>\n",
       "      <th>5</th>\n",
       "      <td>0.10</td>\n",
       "      <td>0.699863</td>\n",
       "      <td>0.072252</td>\n",
       "      <td>1.097101e+09</td>\n",
       "      <td>4.768104e+08</td>\n",
       "      <td>991068298.0</td>\n",
       "      <td>5.0</td>\n",
       "    </tr>\n",
       "    <tr>\n",
       "      <th>6</th>\n",
       "      <td>0.10</td>\n",
       "      <td>0.799844</td>\n",
       "      <td>0.049522</td>\n",
       "      <td>1.095774e+09</td>\n",
       "      <td>4.766545e+08</td>\n",
       "      <td>991068298.0</td>\n",
       "      <td>6.0</td>\n",
       "    </tr>\n",
       "    <tr>\n",
       "      <th>7</th>\n",
       "      <td>0.10</td>\n",
       "      <td>0.899824</td>\n",
       "      <td>0.398613</td>\n",
       "      <td>1.094657e+09</td>\n",
       "      <td>4.740025e+08</td>\n",
       "      <td>991068298.0</td>\n",
       "      <td>7.0</td>\n",
       "    </tr>\n",
       "    <tr>\n",
       "      <th>8</th>\n",
       "      <td>0.10</td>\n",
       "      <td>0.999805</td>\n",
       "      <td>0.398613</td>\n",
       "      <td>1.096877e+09</td>\n",
       "      <td>4.797909e+08</td>\n",
       "      <td>991068298.0</td>\n",
       "      <td>8.0</td>\n",
       "    </tr>\n",
       "    <tr>\n",
       "      <th>9</th>\n",
       "      <td>0.10</td>\n",
       "      <td>1.000000</td>\n",
       "      <td>0.049522</td>\n",
       "      <td>1.096936e+09</td>\n",
       "      <td>4.798571e+08</td>\n",
       "      <td>991068298.0</td>\n",
       "      <td>9.0</td>\n",
       "    </tr>\n",
       "    <tr>\n",
       "      <th>10</th>\n",
       "      <td>0.25</td>\n",
       "      <td>0.349980</td>\n",
       "      <td>0.400949</td>\n",
       "      <td>1.032147e+09</td>\n",
       "      <td>7.271460e+08</td>\n",
       "      <td>610330230.0</td>\n",
       "      <td>0.0</td>\n",
       "    </tr>\n",
       "    <tr>\n",
       "      <th>11</th>\n",
       "      <td>0.25</td>\n",
       "      <td>0.449961</td>\n",
       "      <td>0.565102</td>\n",
       "      <td>1.026328e+09</td>\n",
       "      <td>7.011913e+08</td>\n",
       "      <td>610330230.0</td>\n",
       "      <td>1.0</td>\n",
       "    </tr>\n",
       "    <tr>\n",
       "      <th>12</th>\n",
       "      <td>0.25</td>\n",
       "      <td>0.549941</td>\n",
       "      <td>0.346601</td>\n",
       "      <td>1.026328e+09</td>\n",
       "      <td>7.011913e+08</td>\n",
       "      <td>610330230.0</td>\n",
       "      <td>2.0</td>\n",
       "    </tr>\n",
       "    <tr>\n",
       "      <th>13</th>\n",
       "      <td>0.25</td>\n",
       "      <td>0.649922</td>\n",
       "      <td>0.346601</td>\n",
       "      <td>1.026328e+09</td>\n",
       "      <td>7.011913e+08</td>\n",
       "      <td>610330230.0</td>\n",
       "      <td>3.0</td>\n",
       "    </tr>\n",
       "    <tr>\n",
       "      <th>14</th>\n",
       "      <td>0.50</td>\n",
       "      <td>0.599980</td>\n",
       "      <td>0.596858</td>\n",
       "      <td>9.380877e+08</td>\n",
       "      <td>5.226348e+08</td>\n",
       "      <td>610330230.0</td>\n",
       "      <td>0.0</td>\n",
       "    </tr>\n",
       "    <tr>\n",
       "      <th>15</th>\n",
       "      <td>0.50</td>\n",
       "      <td>0.699961</td>\n",
       "      <td>0.355856</td>\n",
       "      <td>9.350398e+08</td>\n",
       "      <td>5.174776e+08</td>\n",
       "      <td>610330230.0</td>\n",
       "      <td>1.0</td>\n",
       "    </tr>\n",
       "    <tr>\n",
       "      <th>16</th>\n",
       "      <td>0.50</td>\n",
       "      <td>0.799941</td>\n",
       "      <td>0.337751</td>\n",
       "      <td>9.350398e+08</td>\n",
       "      <td>5.174776e+08</td>\n",
       "      <td>610330230.0</td>\n",
       "      <td>2.0</td>\n",
       "    </tr>\n",
       "    <tr>\n",
       "      <th>17</th>\n",
       "      <td>0.50</td>\n",
       "      <td>0.899922</td>\n",
       "      <td>0.337751</td>\n",
       "      <td>9.350398e+08</td>\n",
       "      <td>5.174776e+08</td>\n",
       "      <td>610330230.0</td>\n",
       "      <td>3.0</td>\n",
       "    </tr>\n",
       "  </tbody>\n",
       "</table>\n",
       "</div>"
      ],
      "text/plain": [
       "    training_fraction  updated_model.fraction_of_train  \\\n",
       "0                0.10                         0.199961   \n",
       "1                0.10                         0.299941   \n",
       "2                0.10                         0.399922   \n",
       "3                0.10                         0.499902   \n",
       "4                0.10                         0.599883   \n",
       "5                0.10                         0.699863   \n",
       "6                0.10                         0.799844   \n",
       "7                0.10                         0.899824   \n",
       "8                0.10                         0.999805   \n",
       "9                0.10                         1.000000   \n",
       "10               0.25                         0.349980   \n",
       "11               0.25                         0.449961   \n",
       "12               0.25                         0.549941   \n",
       "13               0.25                         0.649922   \n",
       "14               0.50                         0.599980   \n",
       "15               0.50                         0.699961   \n",
       "16               0.50                         0.799941   \n",
       "17               0.50                         0.899922   \n",
       "\n",
       "    updated_model.hyperparameters.retrained_tree_eta  \\\n",
       "0                                           0.335571   \n",
       "1                                           0.383190   \n",
       "2                                           0.232650   \n",
       "3                                           0.285185   \n",
       "4                                           0.158893   \n",
       "5                                           0.072252   \n",
       "6                                           0.049522   \n",
       "7                                           0.398613   \n",
       "8                                           0.398613   \n",
       "9                                           0.049522   \n",
       "10                                          0.400949   \n",
       "11                                          0.565102   \n",
       "12                                          0.346601   \n",
       "13                                          0.346601   \n",
       "14                                          0.596858   \n",
       "15                                          0.355856   \n",
       "16                                          0.337751   \n",
       "17                                          0.337751   \n",
       "\n",
       "    updated_model.test_error  updated_model.train_error         seed  step  \n",
       "0               1.171535e+09               7.544295e+08  693328056.6   0.0  \n",
       "1               1.041381e+09               5.436852e+08  693328056.6   1.0  \n",
       "2               1.034137e+09               5.305118e+08  693328056.6   2.0  \n",
       "3               1.023154e+09               5.211548e+08  693328056.6   3.0  \n",
       "4               1.107394e+09               4.700727e+08  991068298.0   4.0  \n",
       "5               1.097101e+09               4.768104e+08  991068298.0   5.0  \n",
       "6               1.095774e+09               4.766545e+08  991068298.0   6.0  \n",
       "7               1.094657e+09               4.740025e+08  991068298.0   7.0  \n",
       "8               1.096877e+09               4.797909e+08  991068298.0   8.0  \n",
       "9               1.096936e+09               4.798571e+08  991068298.0   9.0  \n",
       "10              1.032147e+09               7.271460e+08  610330230.0   0.0  \n",
       "11              1.026328e+09               7.011913e+08  610330230.0   1.0  \n",
       "12              1.026328e+09               7.011913e+08  610330230.0   2.0  \n",
       "13              1.026328e+09               7.011913e+08  610330230.0   3.0  \n",
       "14              9.380877e+08               5.226348e+08  610330230.0   0.0  \n",
       "15              9.350398e+08               5.174776e+08  610330230.0   1.0  \n",
       "16              9.350398e+08               5.174776e+08  610330230.0   2.0  \n",
       "17              9.350398e+08               5.174776e+08  610330230.0   3.0  "
      ]
     },
     "execution_count": 107,
     "metadata": {},
     "output_type": "execute_result"
    }
   ],
   "source": [
    "data_select"
   ]
  },
  {
   "cell_type": "code",
   "execution_count": null,
   "id": "6ca02821",
   "metadata": {},
   "outputs": [],
   "source": []
  }
 ],
 "metadata": {
  "kernelspec": {
   "display_name": "Python 3",
   "language": "python",
   "name": "python3"
  },
  "language_info": {
   "codemirror_mode": {
    "name": "ipython",
    "version": 3
   },
   "file_extension": ".py",
   "mimetype": "text/x-python",
   "name": "python",
   "nbconvert_exporter": "python",
   "pygments_lexer": "ipython3",
   "version": "3.6.9"
  }
 },
 "nbformat": 4,
 "nbformat_minor": 5
}
