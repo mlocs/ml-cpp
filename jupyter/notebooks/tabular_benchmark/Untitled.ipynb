{
 "cells": [
  {
   "cell_type": "code",
   "execution_count": 1,
   "id": "5d053acc",
   "metadata": {},
   "outputs": [
    {
     "name": "stderr",
     "output_type": "stream",
     "text": [
      "2022-11-30 14:16:37,188 [I] incremental_learning >> Found data_frame_analyzer binary at /Users/valeriy/Documents/workspace/valeriy42/ml-cpp/cmake-build-relwithdebinfo/bin/data_frame_analyzer/data_frame_analyzer\n"
     ]
    }
   ],
   "source": [
    "%load_ext autoreload\n",
    "%autoreload 2\n",
    "%config Completer.use_jedi = False\n",
    "\n",
    "import time \n",
    "import numpy as np\n",
    "from sklearn.metrics import r2_score\n",
    "import pandas as pd\n",
    "\n",
    "from incremental_learning.benchmark.generate_dataset_pipeline import generate_dataset\n",
    "from incremental_learning.job import train, evaluate"
   ]
  },
  {
   "cell_type": "code",
   "execution_count": 2,
   "id": "08331cea",
   "metadata": {},
   "outputs": [],
   "source": [
    "# from datasets import load_dataset\n",
    "# dataset = load_dataset(\"inria-soda/tabular-benchmark\", data_files=\"reg_cat/house_sales.csv\")\n",
    "\n"
   ]
  },
  {
   "cell_type": "code",
   "execution_count": 3,
   "id": "210bf63d",
   "metadata": {},
   "outputs": [],
   "source": [
    "CONFIG_DEFAULT = {\n",
    "    \"train_prop\": 0.70,\n",
    "    \"val_test_prop\": 0.3,\n",
    "    \"max_val_samples\": 50000,\n",
    "    \"max_test_samples\": 50000,\n",
    "}\n",
    "benchmarks = [\n",
    "    {\n",
    "       \n",
    "        \"task\": \"regression\",\n",
    "        \"dataset_size\": \"medium\",\n",
    "        \"categorical\": False,\n",
    "        \"datasets\": \"house_sales\",\n",
    "    }\n",
    "]\n"
   ]
  },
  {
   "cell_type": "code",
   "execution_count": 4,
   "id": "e888cbc6",
   "metadata": {},
   "outputs": [],
   "source": [
    "def update_config(data_transform_config: dict, benchmark: dict) -> dict:\n",
    "     # Use the appropriate model config\n",
    "    model_config = { \"path_to_dir\": \"data\",}\n",
    "    dataset_size=benchmark[\"dataset_size\"],\n",
    "    categorical=benchmark[\"categorical\"],\n",
    "    regression=benchmark[\"task\"] == \"regression\"\n",
    "\n",
    "    if dataset_size == \"medium\":\n",
    "        data_transform_config[\"max_train_samples\"] = 10000\n",
    "    elif dataset_size == \"large\":\n",
    "        data_transform_config[\"max_train_samples\"] = 50000\n",
    "\n",
    "\n",
    "    if categorical:\n",
    "        data_transform_config[\"data__categorical\"] =  True\n",
    "    else:\n",
    "        data_transform_config[\"data__categorical\"] = False\n",
    "\n",
    "    if regression:\n",
    "        data_transform_config[\"regression\"] = True\n",
    "        data_transform_config[\"data__regression\"] = True\n",
    "    else:\n",
    "        data_transform_config[\"regression\"] = False\n",
    "        data_transform_config[\"data__regression\"] = False\n",
    "\n",
    "    data_transform_config[\"data__keyword\"] = benchmark['datasets']\n",
    "\n",
    "    config = {\n",
    "        \"program\": \"run_experiment.py\",\n",
    "        \"metric\": {\n",
    "            \"name\": \"mean_test_score\",\n",
    "            \"goal\": \"minimize\"  # RMSE\n",
    "        } if regression else {\n",
    "            \"name\": \"mean_test_score\",\n",
    "            \"goal\": \"maximize\"  # accuracy\n",
    "        },\n",
    "        \"parameters\": dict(model_config, **data_transform_config)\n",
    "    }\n",
    "    return config\n"
   ]
  },
  {
   "cell_type": "code",
   "execution_count": 5,
   "id": "613d1a4b",
   "metadata": {},
   "outputs": [
    {
     "name": "stdout",
     "output_type": "stream",
     "text": [
      "{'task': 'regression', 'dataset_size': 'medium', 'categorical': False, 'datasets': 'house_sales'}\n",
      "{'program': 'run_experiment.py', 'metric': {'name': 'mean_test_score', 'goal': 'minimize'}, 'parameters': {'path_to_dir': 'data', 'data__method_name': 'real_data', 'n_iter': 1, 'data__categorical': True, 'regression': True, 'data__regression': True, 'data__keyword': 'house_sales'}}\n"
     ]
    }
   ],
   "source": [
    "data_transform_config = {\n",
    "    \"data__method_name\": \"real_data\",\n",
    "    \"n_iter\": 1\n",
    "    # \"n_iter\":  \"auto\"\n",
    "}\n",
    "\n",
    "for benchmark in benchmarks:\n",
    "    print(benchmark)\n",
    "    print(\n",
    "        update_config(\n",
    "            data_transform_config=data_transform_config,\n",
    "            benchmark=benchmark,\n",
    "        )\n",
    "    )\n",
    "\n"
   ]
  },
  {
   "cell_type": "code",
   "execution_count": 6,
   "id": "bab7feb1",
   "metadata": {},
   "outputs": [
    {
     "data": {
      "text/html": [
       "<table><tr>\n",
       "                                                                <td width=\"50%\" style=\"text-align:center;\"><b>stderr</b></td>\n",
       "                                                                <td width=\"50%\" style=\"text-align:center;\"><b>output</b></td>\n",
       "                                                                </tr>\n",
       "                                                                <tr>\n",
       "                                                                <td width=\"50%\" style=\"text-align:left;\"><pre> /Users/valeriy/Documents/workspace/valeriy42/ml-cpp/cmake-build-relwithdebinfo/bin/data_frame_analyzer/data_frame_analyzer --input /var/folders/_j/gcj6z4b950bdzpw7_fzrmpf40000gn/T/tmpvk926tdq --config /var/folders/_j/gcj6z4b950bdzpw7_fzrmpf40000gn/T/tmpt3b3ghlk --output /var/folders/_j/gcj6z4b950bdzpw7_fzrmpf40000gn/T/tmp4ibl_ngk --validElasticLicenseKeyConfirmed true --restore /var/folders/_j/gcj6z4b950bdzpw7_fzrmpf40000gn/T/tmpzz0tns09; if [ $? -eq 0 ]; then echo \"Success\"; else echo \"Failure\";  fi\n",
       "The default interactive shell is now zsh.\n",
       "To update your account to use zsh, please run `chsh -s /bin/zsh`.\n",
       "For more details, please visit https://support.apple.com/kb/HT208050.\n",
       "Elastic-MBP:jupyter valeriy$  /Users/valeriy/Documents/workspace/valeriy42/ml-cpp/cmake-build-relwithdebinfo/bin/data_frame_analyzer/data_frame_analyzer --input /var/folders/_j/gcj6z4b950bdzpw7_fzrmpf40000gn/T/tmpvk926tdq --config /var/folders/_j/gcj6z4b950bdzpw7_fzrmpf40000gn/T/tmpt3b3ghlk --output /var/folders/_j/gcj6z4b950bdzpw7_fzrmpf40000gn/T/tmp4ibl_ngk --validElasticLicenseKeyConfirmed true --restore /var/folders/_j/gcj6z4b950bdzpw7_fzrmpf40000gn/T/tmpzz0tns09; if [ $? -eq 0 ]; then echo \"Success\"; else echo \"Failure\";  fi\n",
       "2022-11-30 13:17:19,279103 UTC [49566] DEBUG /Users/valeriy/Documents/workspace/valeriy42/ml-cpp/bin/data_frame_analyzer/Main.cc@153 data_frame_analyzer (64 bit): Version based on 8.7.0-SNAPSHOT (Build DEVELOPMENT BUILD by valeriy) Copyright (c) 2022 Elasticsearch BV\n",
       "2022-11-30 13:17:19,283416 UTC [49566] DEBUG /Users/valeriy/Documents/workspace/valeriy42/ml-cpp/lib/seccomp/CSystemCallFilter_MacOSX.cc@107 macOS sandbox initialized\n",
       "2022-11-30 13:17:19,420402 UTC [49566] DEBUG /Users/valeriy/Documents/workspace/valeriy42/ml-cpp/lib/api/CDataFrameAnalyzer.cc@116 Received 16641 rows\n",
       "2022-11-30 13:17:19,665159 UTC [49566] INFO  /Users/valeriy/Documents/workspace/valeriy42/ml-cpp/bin/data_frame_analyzer/Main.cc@261 [{\"name\":\"E_DFTPMEstimatedPeakMemoryUsage\",\"description\":\"The upfront estimate of the peak memory training the predictive model would use\",\"value\":1382586}\n",
       ",{\"name\":\"E_DFTPMPeakMemoryUsage\",\"description\":\"The peak memory training the predictive model used\",\"value\":3622930}\n",
       ",{\"name\":\"E_DFTPMTimeToTrain\",\"description\":\"The time it took to train the predictive model\",\"value\":92}\n",
       "]\n",
       "2022-11-30 13:17:19,665192 UTC [49566] DEBUG /Users/valeriy/Documents/workspace/valeriy42/ml-cpp/bin/data_frame_analyzer/Main.cc@266 ML data frame analyzer exiting\n",
       "Success\n",
       "Elastic-MBP:jupyter valeriy$</pre></td>\n",
       "                                                                <td width=\"50%\" style=\"text-align:left;\"><pre>,{\"row_results\":{\"checksum\":0,\"results\":{\"ml\":{\"target_prediction\":14.0570077896\n",
       ",{\"row_results\":{\"checksum\":0,\"results\":{\"ml\":{\"target_prediction\":12.7662162780\n",
       ",{\"row_results\":{\"checksum\":0,\"results\":{\"ml\":{\"target_prediction\":13.5055694580\n",
       ",{\"row_results\":{\"checksum\":0,\"results\":{\"ml\":{\"target_prediction\":12.7506341934\n",
       ",{\"row_results\":{\"checksum\":0,\"results\":{\"ml\":{\"target_prediction\":13.2866392135\n",
       ",{\"row_results\":{\"checksum\":0,\"results\":{\"ml\":{\"target_prediction\":13.3751373291\n",
       ",{\"row_results\":{\"checksum\":0,\"results\":{\"ml\":{\"target_prediction\":13.6291961669\n",
       ",{\"model_metadata\":{\"total_feature_importance\":[],\"hyperparameters\":[],\"train_pr\n",
       ",{\"compressed_data_summarization\":{\"doc_num\":0,\"data_summarization\":\"H4sIAAAAAAA\n",
       "]</pre></td>\n",
       "                                                                </tr>\n",
       "                                                        </table>"
      ]
     },
     "metadata": {},
     "output_type": "display_data"
    },
    {
     "name": "stdout",
     "output_type": "stream",
     "text": [
      "Job succeeded\n",
      "R2 score evaluate:  0.9128884662658696\n"
     ]
    }
   ],
   "source": [
    "config = update_config(\n",
    "    data_transform_config=data_transform_config, benchmark=benchmarks[0]\n",
    ")\n",
    "config[\"parameters\"] = {**config[\"parameters\"], **CONFIG_DEFAULT}\n",
    "print(config)\n",
    "train_scores = []\n",
    "val_scores = []\n",
    "test_scores = []\n",
    "r2_train_scores = []\n",
    "r2_val_scores = []\n",
    "r2_test_scores = []\n",
    "times = []\n",
    "if config[\"parameters\"][\"n_iter\"] == \"auto\":\n",
    "    (\n",
    "        x_train,\n",
    "        x_val,\n",
    "        x_test,\n",
    "        y_train,\n",
    "        y_val,\n",
    "        y_test,\n",
    "        categorical_indicator,\n",
    "    ) = generate_dataset(config[\"parameters\"], np.random.RandomState(0))\n",
    "    if x_test.shape[0] > 6000:\n",
    "        n_iter = 1\n",
    "    elif x_test.shape[0] > 3000:\n",
    "        n_iter = 2\n",
    "    elif x_test.shape[0] > 1000:\n",
    "        n_iter = 3\n",
    "    else:\n",
    "        n_iter = 5\n",
    "else:\n",
    "    n_iter = config['parameters'][\"n_iter\"]\n",
    "for i in range(n_iter):\n",
    "    # if config[\"log_training\"]: #FIXME\n",
    "    #    config[\"model__wandb_run\"] = run\n",
    "    rng = np.random.RandomState(i)\n",
    "    print(rng.randn(1))\n",
    "    # TODO: separate numeric and categorical features\n",
    "    t = time.time()\n",
    "    (\n",
    "        x_train,\n",
    "        x_val,\n",
    "        x_test,\n",
    "        y_train,\n",
    "        y_val,\n",
    "        y_test,\n",
    "        categorical_indicator,\n",
    "    ) = generate_dataset(config['parameters'], rng)\n",
    "    data_generation_time = time.time() - t\n",
    "    print(\"Data generation time:\", data_generation_time)\n",
    "    # print(y_train)\n",
    "    print(x_train.shape)\n",
    "    x_train_df = pd.DataFrame(x_train, columns=['f' + str(col_idx) for col_idx in range(x_train.shape[1])])\n",
    "    categorical_fields = [field for field, indicator in zip(x_train_df.columns, categorical_indicator) if indicator]\n",
    "    x_train_df['target'] = y_train\n",
    "    train_config = {\n",
    "        'job_id': benchmarks[0]['datasets'],\n",
    "        'rows': (x_train.shape[0] + x_val.shape[0]),\n",
    "        'cols': x_train.shape[1]+1,\n",
    "        'memory_limit': 50000000,\n",
    "        'threads': 8,\n",
    "        'results_field': 'ml',\n",
    "        'categorical_fields': categorical_fields,\n",
    "        'analysis': {\n",
    "            'name': benchmark['task'],\n",
    "            'parameters': {\n",
    "                'randomize_seed': rng.randint(100000000),\n",
    "                'dependent_variable': 'target'\n",
    "            }\n",
    "        }\n",
    "    }\n",
    "    job = train(train_config['job_id'], x_train_df, config=train_config)\n",
    "    job.wait_to_complete()\n",
    "\n",
    "    predictions = job.get_predictions()\n",
    "    print(\"R2 score train: \", r2_score(predictions, y_train))\n",
    "\n",
    "    evaluate_job = evaluate(dataset_name=train_config['job_id'], dataset=x_train_df, original_job=job, config=train_config)\n",
    "    evaluate_job.wait_to_complete()\n",
    "    print(\"R2 score evaluate: \", r2_score(evaluate_job.get_predictions(), y_train))\n",
    "\n"
   ]
  }
 ],
 "metadata": {
  "kernelspec": {
   "display_name": "Python 3 (ipykernel)",
   "language": "python",
   "name": "python3"
  },
  "language_info": {
   "codemirror_mode": {
    "name": "ipython",
    "version": 3
   },
   "file_extension": ".py",
   "mimetype": "text/x-python",
   "name": "python",
   "nbconvert_exporter": "python",
   "pygments_lexer": "ipython3",
   "version": "3.9.9"
  },
  "vscode": {
   "interpreter": {
    "hash": "70b38d7a306a849643e446cd70466270a13445e5987dfa1344ef2b127438fa4d"
   }
  }
 },
 "nbformat": 4,
 "nbformat_minor": 5
}
